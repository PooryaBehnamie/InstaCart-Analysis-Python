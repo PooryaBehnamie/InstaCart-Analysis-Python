{
 "cells": [
  {
   "cell_type": "markdown",
   "id": "1d2ca9af-2d5f-4a8a-a349-44c004f9a355",
   "metadata": {},
   "source": [
    "## 4.6.1 Merging and exporting data"
   ]
  },
  {
   "cell_type": "markdown",
   "id": "6d43fd95-4db0-4325-a293-29d517fad202",
   "metadata": {},
   "source": [
    "### This script includes the following points:"
   ]
  },
  {
   "cell_type": "markdown",
   "id": "ebd5d889-1759-4db4-8125-4f6117adb9f3",
   "metadata": {},
   "source": [
    "#### Step 3. Import the data\n",
    "#### Step 4. Check the Output of Dataframes\n",
    "#### Step 5. Merge orders_products_combined with df_prods\n",
    "#### Step 6. Confirm the results of the merge using the merge flag\n",
    "#### Step 7. Export the file"
   ]
  },
  {
   "cell_type": "markdown",
   "id": "36df8eb6-514d-43cc-9209-f07d81f5f971",
   "metadata": {},
   "source": [
    "### Step 3. Import the data"
   ]
  },
  {
   "cell_type": "code",
   "execution_count": 2,
   "id": "d13dfd0e-97ed-4976-8c09-c49f7438b395",
   "metadata": {},
   "outputs": [],
   "source": [
    "# import libraries\n",
    "import pandas as pd\n",
    "import numpy as np\n",
    "import os"
   ]
  },
  {
   "cell_type": "code",
   "execution_count": 3,
   "id": "91fda602-e49f-4cfe-a3ab-9be8b7f6a4bc",
   "metadata": {},
   "outputs": [],
   "source": [
    "path = r\"C:\\Users\\Poory\\OneDrive\\Desktop\\project\\Instacart Basket Analysis\""
   ]
  },
  {
   "cell_type": "code",
   "execution_count": 4,
   "id": "46cfbad4-10ff-44a3-9aac-18674bbcf5ae",
   "metadata": {},
   "outputs": [],
   "source": [
    "orders_products_combined = pd.read_pickle(os.path.join(path, '02 Data','Prepared Data', 'orders_products_combined.pkl'))"
   ]
  },
  {
   "cell_type": "code",
   "execution_count": 5,
   "id": "5ea3a6b0-1087-4ae7-b347-1724bdccbdc3",
   "metadata": {},
   "outputs": [],
   "source": [
    "df_prods = pd.read_csv(os.path.join(path, '02 Data', 'Prepared Data', 'Products_checked.csv'), index_col = False)"
   ]
  },
  {
   "cell_type": "markdown",
   "id": "520066a2-6b3d-422f-9339-884fe4887d19",
   "metadata": {},
   "source": [
    "### Step 4. Check the Output of Dataframes"
   ]
  },
  {
   "cell_type": "code",
   "execution_count": 6,
   "id": "c5362af1-0ecb-4845-9019-4831573968f3",
   "metadata": {},
   "outputs": [
    {
     "data": {
      "text/plain": [
       "(32434489, 11)"
      ]
     },
     "execution_count": 6,
     "metadata": {},
     "output_type": "execute_result"
    }
   ],
   "source": [
    "orders_products_combined.shape"
   ]
  },
  {
   "cell_type": "code",
   "execution_count": 7,
   "id": "9dad0c95-6c45-4e6d-90e0-c0a0e84f672b",
   "metadata": {},
   "outputs": [
    {
     "name": "stdout",
     "output_type": "stream",
     "text": [
      "<class 'pandas.core.frame.DataFrame'>\n",
      "RangeIndex: 32434489 entries, 0 to 32434488\n",
      "Data columns (total 11 columns):\n",
      " #   Column              Dtype   \n",
      "---  ------              -----   \n",
      " 0   order_id            int32   \n",
      " 1   user_id             int32   \n",
      " 2   order_number        int8    \n",
      " 3   orders_day_of_week  int8    \n",
      " 4   order_hour_of_day   int8    \n",
      " 5   last_order_days     float16 \n",
      " 6   first_order         bool    \n",
      " 7   product_id          int32   \n",
      " 8   add_to_cart_order   int32   \n",
      " 9   reordered           int8    \n",
      " 10  _merge              category\n",
      "dtypes: bool(1), category(1), float16(1), int32(4), int8(4)\n",
      "memory usage: 742.4 MB\n"
     ]
    }
   ],
   "source": [
    "orders_products_combined.info()"
   ]
  },
  {
   "cell_type": "code",
   "execution_count": 8,
   "id": "cc1799f0-7147-4414-b997-8e91f4e39d33",
   "metadata": {},
   "outputs": [
    {
     "data": {
      "text/html": [
       "<div>\n",
       "<style scoped>\n",
       "    .dataframe tbody tr th:only-of-type {\n",
       "        vertical-align: middle;\n",
       "    }\n",
       "\n",
       "    .dataframe tbody tr th {\n",
       "        vertical-align: top;\n",
       "    }\n",
       "\n",
       "    .dataframe thead th {\n",
       "        text-align: right;\n",
       "    }\n",
       "</style>\n",
       "<table border=\"1\" class=\"dataframe\">\n",
       "  <thead>\n",
       "    <tr style=\"text-align: right;\">\n",
       "      <th></th>\n",
       "      <th>order_id</th>\n",
       "      <th>user_id</th>\n",
       "      <th>order_number</th>\n",
       "      <th>orders_day_of_week</th>\n",
       "      <th>order_hour_of_day</th>\n",
       "      <th>last_order_days</th>\n",
       "      <th>first_order</th>\n",
       "      <th>product_id</th>\n",
       "      <th>add_to_cart_order</th>\n",
       "      <th>reordered</th>\n",
       "      <th>_merge</th>\n",
       "    </tr>\n",
       "  </thead>\n",
       "  <tbody>\n",
       "    <tr>\n",
       "      <th>0</th>\n",
       "      <td>2539329</td>\n",
       "      <td>1</td>\n",
       "      <td>1</td>\n",
       "      <td>2</td>\n",
       "      <td>8</td>\n",
       "      <td>NaN</td>\n",
       "      <td>True</td>\n",
       "      <td>196</td>\n",
       "      <td>1</td>\n",
       "      <td>0</td>\n",
       "      <td>both</td>\n",
       "    </tr>\n",
       "    <tr>\n",
       "      <th>1</th>\n",
       "      <td>2539329</td>\n",
       "      <td>1</td>\n",
       "      <td>1</td>\n",
       "      <td>2</td>\n",
       "      <td>8</td>\n",
       "      <td>NaN</td>\n",
       "      <td>True</td>\n",
       "      <td>14084</td>\n",
       "      <td>2</td>\n",
       "      <td>0</td>\n",
       "      <td>both</td>\n",
       "    </tr>\n",
       "    <tr>\n",
       "      <th>2</th>\n",
       "      <td>2539329</td>\n",
       "      <td>1</td>\n",
       "      <td>1</td>\n",
       "      <td>2</td>\n",
       "      <td>8</td>\n",
       "      <td>NaN</td>\n",
       "      <td>True</td>\n",
       "      <td>12427</td>\n",
       "      <td>3</td>\n",
       "      <td>0</td>\n",
       "      <td>both</td>\n",
       "    </tr>\n",
       "    <tr>\n",
       "      <th>3</th>\n",
       "      <td>2539329</td>\n",
       "      <td>1</td>\n",
       "      <td>1</td>\n",
       "      <td>2</td>\n",
       "      <td>8</td>\n",
       "      <td>NaN</td>\n",
       "      <td>True</td>\n",
       "      <td>26088</td>\n",
       "      <td>4</td>\n",
       "      <td>0</td>\n",
       "      <td>both</td>\n",
       "    </tr>\n",
       "    <tr>\n",
       "      <th>4</th>\n",
       "      <td>2539329</td>\n",
       "      <td>1</td>\n",
       "      <td>1</td>\n",
       "      <td>2</td>\n",
       "      <td>8</td>\n",
       "      <td>NaN</td>\n",
       "      <td>True</td>\n",
       "      <td>26405</td>\n",
       "      <td>5</td>\n",
       "      <td>0</td>\n",
       "      <td>both</td>\n",
       "    </tr>\n",
       "  </tbody>\n",
       "</table>\n",
       "</div>"
      ],
      "text/plain": [
       "   order_id  user_id  order_number  orders_day_of_week  order_hour_of_day  \\\n",
       "0   2539329        1             1                   2                  8   \n",
       "1   2539329        1             1                   2                  8   \n",
       "2   2539329        1             1                   2                  8   \n",
       "3   2539329        1             1                   2                  8   \n",
       "4   2539329        1             1                   2                  8   \n",
       "\n",
       "   last_order_days  first_order  product_id  add_to_cart_order  reordered  \\\n",
       "0              NaN         True         196                  1          0   \n",
       "1              NaN         True       14084                  2          0   \n",
       "2              NaN         True       12427                  3          0   \n",
       "3              NaN         True       26088                  4          0   \n",
       "4              NaN         True       26405                  5          0   \n",
       "\n",
       "  _merge  \n",
       "0   both  \n",
       "1   both  \n",
       "2   both  \n",
       "3   both  \n",
       "4   both  "
      ]
     },
     "execution_count": 8,
     "metadata": {},
     "output_type": "execute_result"
    }
   ],
   "source": [
    "orders_products_combined.head()"
   ]
  },
  {
   "cell_type": "code",
   "execution_count": 9,
   "id": "5900ecb6-989a-48c3-8aae-bdfe12d697e6",
   "metadata": {},
   "outputs": [
    {
     "name": "stdout",
     "output_type": "stream",
     "text": [
      "<class 'pandas.core.frame.DataFrame'>\n",
      "RangeIndex: 49672 entries, 0 to 49671\n",
      "Data columns (total 6 columns):\n",
      " #   Column         Non-Null Count  Dtype  \n",
      "---  ------         --------------  -----  \n",
      " 0   Unnamed: 0     49672 non-null  int64  \n",
      " 1   product_id     49672 non-null  int64  \n",
      " 2   product_name   49672 non-null  object \n",
      " 3   aisle_id       49672 non-null  int64  \n",
      " 4   department_id  49672 non-null  int64  \n",
      " 5   prices         49672 non-null  float64\n",
      "dtypes: float64(1), int64(4), object(1)\n",
      "memory usage: 2.3+ MB\n"
     ]
    }
   ],
   "source": [
    "df_prods.info()"
   ]
  },
  {
   "cell_type": "code",
   "execution_count": 10,
   "id": "b30ed9b8-bcb9-4507-8657-8f0cba323380",
   "metadata": {},
   "outputs": [],
   "source": [
    "df_prods.drop(columns = ['Unnamed: 0'], inplace = True)"
   ]
  },
  {
   "cell_type": "code",
   "execution_count": 11,
   "id": "a8a59efb-0aa0-4b1d-970a-5f77f41de9c4",
   "metadata": {},
   "outputs": [
    {
     "name": "stdout",
     "output_type": "stream",
     "text": [
      "<class 'pandas.core.frame.DataFrame'>\n",
      "RangeIndex: 49672 entries, 0 to 49671\n",
      "Data columns (total 5 columns):\n",
      " #   Column         Non-Null Count  Dtype  \n",
      "---  ------         --------------  -----  \n",
      " 0   product_id     49672 non-null  int64  \n",
      " 1   product_name   49672 non-null  object \n",
      " 2   aisle_id       49672 non-null  int64  \n",
      " 3   department_id  49672 non-null  int64  \n",
      " 4   prices         49672 non-null  float64\n",
      "dtypes: float64(1), int64(3), object(1)\n",
      "memory usage: 1.9+ MB\n"
     ]
    }
   ],
   "source": [
    "df_prods.info()"
   ]
  },
  {
   "cell_type": "code",
   "execution_count": 12,
   "id": "e32eb6aa-483a-4152-bfdc-143bf7cbafcb",
   "metadata": {},
   "outputs": [
    {
     "data": {
      "text/html": [
       "<div>\n",
       "<style scoped>\n",
       "    .dataframe tbody tr th:only-of-type {\n",
       "        vertical-align: middle;\n",
       "    }\n",
       "\n",
       "    .dataframe tbody tr th {\n",
       "        vertical-align: top;\n",
       "    }\n",
       "\n",
       "    .dataframe thead th {\n",
       "        text-align: right;\n",
       "    }\n",
       "</style>\n",
       "<table border=\"1\" class=\"dataframe\">\n",
       "  <thead>\n",
       "    <tr style=\"text-align: right;\">\n",
       "      <th></th>\n",
       "      <th>product_id</th>\n",
       "      <th>product_name</th>\n",
       "      <th>aisle_id</th>\n",
       "      <th>department_id</th>\n",
       "      <th>prices</th>\n",
       "    </tr>\n",
       "  </thead>\n",
       "  <tbody>\n",
       "    <tr>\n",
       "      <th>0</th>\n",
       "      <td>1</td>\n",
       "      <td>Chocolate Sandwich Cookies</td>\n",
       "      <td>61</td>\n",
       "      <td>19</td>\n",
       "      <td>5.8</td>\n",
       "    </tr>\n",
       "    <tr>\n",
       "      <th>1</th>\n",
       "      <td>2</td>\n",
       "      <td>All-Seasons Salt</td>\n",
       "      <td>104</td>\n",
       "      <td>13</td>\n",
       "      <td>9.3</td>\n",
       "    </tr>\n",
       "    <tr>\n",
       "      <th>2</th>\n",
       "      <td>3</td>\n",
       "      <td>Robust Golden Unsweetened Oolong Tea</td>\n",
       "      <td>94</td>\n",
       "      <td>7</td>\n",
       "      <td>4.5</td>\n",
       "    </tr>\n",
       "    <tr>\n",
       "      <th>3</th>\n",
       "      <td>4</td>\n",
       "      <td>Smart Ones Classic Favorites Mini Rigatoni Wit...</td>\n",
       "      <td>38</td>\n",
       "      <td>1</td>\n",
       "      <td>10.5</td>\n",
       "    </tr>\n",
       "    <tr>\n",
       "      <th>4</th>\n",
       "      <td>5</td>\n",
       "      <td>Green Chile Anytime Sauce</td>\n",
       "      <td>5</td>\n",
       "      <td>13</td>\n",
       "      <td>4.3</td>\n",
       "    </tr>\n",
       "  </tbody>\n",
       "</table>\n",
       "</div>"
      ],
      "text/plain": [
       "   product_id                                       product_name  aisle_id  \\\n",
       "0           1                         Chocolate Sandwich Cookies        61   \n",
       "1           2                                   All-Seasons Salt       104   \n",
       "2           3               Robust Golden Unsweetened Oolong Tea        94   \n",
       "3           4  Smart Ones Classic Favorites Mini Rigatoni Wit...        38   \n",
       "4           5                          Green Chile Anytime Sauce         5   \n",
       "\n",
       "   department_id  prices  \n",
       "0             19     5.8  \n",
       "1             13     9.3  \n",
       "2              7     4.5  \n",
       "3              1    10.5  \n",
       "4             13     4.3  "
      ]
     },
     "execution_count": 12,
     "metadata": {},
     "output_type": "execute_result"
    }
   ],
   "source": [
    "df_prods.head()"
   ]
  },
  {
   "cell_type": "code",
   "execution_count": 14,
   "id": "fea72ac6-59d6-4467-a9fc-e88b2f788c06",
   "metadata": {},
   "outputs": [],
   "source": [
    "pd.options.display.max_rows = None"
   ]
  },
  {
   "cell_type": "code",
   "execution_count": 19,
   "id": "18a7885d-fd6c-41f3-a6f2-075cb958ab4f",
   "metadata": {},
   "outputs": [
    {
     "data": {
      "text/plain": [
       "prices\n",
       "2.50     470\n",
       "5.30     458\n",
       "6.20     451\n",
       "2.60     447\n",
       "5.40     444\n",
       "3.80     442\n",
       "2.40     442\n",
       "6.30     442\n",
       "6.90     442\n",
       "3.00     441\n",
       "3.40     438\n",
       "6.80     438\n",
       "5.20     437\n",
       "4.50     437\n",
       "2.80     435\n",
       "3.30     435\n",
       "1.80     434\n",
       "5.10     431\n",
       "6.50     430\n",
       "5.60     428\n",
       "4.60     427\n",
       "4.40     426\n",
       "3.60     425\n",
       "2.00     424\n",
       "4.90     423\n",
       "5.70     423\n",
       "4.30     420\n",
       "6.40     419\n",
       "4.00     419\n",
       "5.80     418\n",
       "6.60     417\n",
       "1.70     417\n",
       "3.50     416\n",
       "2.90     416\n",
       "2.10     415\n",
       "4.20     415\n",
       "2.30     415\n",
       "5.00     414\n",
       "2.20     413\n",
       "2.70     412\n",
       "4.70     411\n",
       "6.00     408\n",
       "3.10     407\n",
       "4.10     406\n",
       "3.90     406\n",
       "4.80     405\n",
       "6.70     404\n",
       "3.20     403\n",
       "5.90     399\n",
       "3.70     399\n",
       "7.00     396\n",
       "5.50     386\n",
       "6.10     385\n",
       "1.90     377\n",
       "1.60     371\n",
       "12.60    356\n",
       "11.50    348\n",
       "8.30     347\n",
       "9.40     340\n",
       "8.20     334\n",
       "11.30    333\n",
       "14.40    330\n",
       "9.20     329\n",
       "12.90    328\n",
       "14.20    327\n",
       "14.30    326\n",
       "7.50     325\n",
       "11.70    324\n",
       "8.70     323\n",
       "11.40    323\n",
       "10.20    322\n",
       "13.00    322\n",
       "1.40     321\n",
       "13.60    320\n",
       "12.30    319\n",
       "11.80    318\n",
       "12.20    316\n",
       "9.10     315\n",
       "13.50    313\n",
       "7.70     313\n",
       "11.10    313\n",
       "14.10    312\n",
       "14.90    311\n",
       "12.10    311\n",
       "13.40    311\n",
       "12.80    310\n",
       "8.60     310\n",
       "14.60    310\n",
       "8.80     310\n",
       "9.00     309\n",
       "7.20     309\n",
       "9.60     308\n",
       "9.30     307\n",
       "11.90    307\n",
       "11.00    306\n",
       "7.90     305\n",
       "10.60    305\n",
       "8.40     305\n",
       "14.00    304\n",
       "14.70    304\n",
       "9.70     303\n",
       "10.50    303\n",
       "13.20    302\n",
       "7.30     302\n",
       "13.30    301\n",
       "10.30    301\n",
       "9.50     300\n",
       "10.70    300\n",
       "10.90    299\n",
       "9.80     299\n",
       "12.50    299\n",
       "10.80    299\n",
       "12.70    297\n",
       "10.10    297\n",
       "8.10     296\n",
       "1.20     296\n",
       "10.00    296\n",
       "1.10     296\n",
       "8.50     295\n",
       "13.90    293\n",
       "12.00    292\n",
       "9.90     292\n",
       "8.90     292\n",
       "11.60    291\n",
       "10.40    291\n",
       "11.20    290\n",
       "13.10    289\n",
       "8.00     289\n",
       "7.40     288\n",
       "1.30     286\n",
       "14.80    285\n",
       "13.70    284\n",
       "13.80    282\n",
       "7.10     281\n",
       "7.80     280\n",
       "12.40    278\n",
       "1.50     276\n",
       "7.60     267\n",
       "14.50    262\n",
       "15.00    143\n",
       "1.00     116\n",
       "18.40     11\n",
       "21.60     10\n",
       "15.70     10\n",
       "21.30     10\n",
       "20.90     10\n",
       "22.20     10\n",
       "18.50      9\n",
       "19.10      9\n",
       "18.80      9\n",
       "23.80      9\n",
       "19.30      8\n",
       "21.80      8\n",
       "23.20      8\n",
       "16.80      8\n",
       "15.90      8\n",
       "22.80      8\n",
       "21.70      8\n",
       "22.00      8\n",
       "18.10      8\n",
       "20.10      8\n",
       "18.70      7\n",
       "15.40      7\n",
       "15.10      7\n",
       "17.00      7\n",
       "20.70      7\n",
       "18.60      7\n",
       "16.70      7\n",
       "23.10      7\n",
       "23.90      7\n",
       "20.60      6\n",
       "23.60      6\n",
       "19.60      6\n",
       "23.50      6\n",
       "17.60      6\n",
       "24.00      6\n",
       "19.00      6\n",
       "17.30      6\n",
       "22.90      6\n",
       "24.90      6\n",
       "21.10      6\n",
       "20.00      6\n",
       "19.20      6\n",
       "17.20      6\n",
       "17.80      6\n",
       "22.30      6\n",
       "22.50      6\n",
       "19.90      6\n",
       "15.50      5\n",
       "24.80      5\n",
       "25.00      5\n",
       "24.40      5\n",
       "18.00      5\n",
       "24.70      5\n",
       "22.10      5\n",
       "17.90      5\n",
       "16.10      5\n",
       "24.10      5\n",
       "24.30      5\n",
       "19.40      5\n",
       "24.50      5\n",
       "15.20      5\n",
       "16.60      5\n",
       "22.40      5\n",
       "18.20      5\n",
       "20.30      5\n",
       "20.40      4\n",
       "15.30      4\n",
       "16.20      4\n",
       "16.40      4\n",
       "22.70      4\n",
       "16.50      4\n",
       "21.50      4\n",
       "19.80      4\n",
       "20.80      4\n",
       "22.60      4\n",
       "16.30      4\n",
       "24.60      4\n",
       "18.90      4\n",
       "17.40      4\n",
       "16.90      4\n",
       "16.00      4\n",
       "19.50      3\n",
       "17.10      3\n",
       "17.50      3\n",
       "20.50      3\n",
       "23.70      3\n",
       "20.20      3\n",
       "23.30      3\n",
       "23.40      3\n",
       "21.90      3\n",
       "23.00      3\n",
       "19.70      3\n",
       "15.80      2\n",
       "17.70      2\n",
       "24.20      2\n",
       "21.00      1\n",
       "9.99       1\n",
       "21.40      1\n",
       "15.60      1\n",
       "18.30      1\n",
       "Name: count, dtype: int64"
      ]
     },
     "execution_count": 19,
     "metadata": {},
     "output_type": "execute_result"
    }
   ],
   "source": [
    "df_prods['prices'].value_counts(dropna = False)"
   ]
  },
  {
   "cell_type": "code",
   "execution_count": 18,
   "id": "b86f2ed8-f621-4dfe-9682-68cc186d9952",
   "metadata": {},
   "outputs": [],
   "source": [
    "df_prods.loc[df_prods['prices'] == 14900, 'prices'] = 14.9"
   ]
  },
  {
   "cell_type": "markdown",
   "id": "a2dcd228-8d9b-447b-92db-28279bd80986",
   "metadata": {},
   "source": [
    "### Step 5. Merge orders_products_combined with df_prods"
   ]
  },
  {
   "cell_type": "code",
   "execution_count": 20,
   "id": "13e6705f-d4aa-483b-9312-70bb7783ed50",
   "metadata": {
    "scrolled": true
   },
   "outputs": [
    {
     "ename": "ValueError",
     "evalue": "Cannot use name of an existing column for indicator column",
     "output_type": "error",
     "traceback": [
      "\u001b[1;31m---------------------------------------------------------------------------\u001b[0m",
      "\u001b[1;31mValueError\u001b[0m                                Traceback (most recent call last)",
      "Cell \u001b[1;32mIn[20], line 3\u001b[0m\n\u001b[0;32m      1\u001b[0m \u001b[38;5;66;03m#Q5 Merging two data frames (inner Join):\u001b[39;00m\n\u001b[1;32m----> 3\u001b[0m ords_prods_merge \u001b[38;5;241m=\u001b[39m orders_products_combined\u001b[38;5;241m.\u001b[39mmerge(df_prods, on \u001b[38;5;241m=\u001b[39m \u001b[38;5;124m'\u001b[39m\u001b[38;5;124mproduct_id\u001b[39m\u001b[38;5;124m'\u001b[39m, indicator \u001b[38;5;241m=\u001b[39m \u001b[38;5;28;01mTrue\u001b[39;00m)\n\u001b[0;32m      4\u001b[0m ords_prods_merge[\u001b[38;5;124m'\u001b[39m\u001b[38;5;124m_merge\u001b[39m\u001b[38;5;124m'\u001b[39m]\u001b[38;5;241m.\u001b[39mvalue_counts(dropna \u001b[38;5;241m=\u001b[39m \u001b[38;5;28;01mFalse\u001b[39;00m)\n",
      "File \u001b[1;32m~\\anaconda3\\Lib\\site-packages\\pandas\\core\\frame.py:10487\u001b[0m, in \u001b[0;36mDataFrame.merge\u001b[1;34m(self, right, how, on, left_on, right_on, left_index, right_index, sort, suffixes, copy, indicator, validate)\u001b[0m\n\u001b[0;32m  10468\u001b[0m \u001b[38;5;129m@Substitution\u001b[39m(\u001b[38;5;124m\"\u001b[39m\u001b[38;5;124m\"\u001b[39m)\n\u001b[0;32m  10469\u001b[0m \u001b[38;5;129m@Appender\u001b[39m(_merge_doc, indents\u001b[38;5;241m=\u001b[39m\u001b[38;5;241m2\u001b[39m)\n\u001b[0;32m  10470\u001b[0m \u001b[38;5;28;01mdef\u001b[39;00m \u001b[38;5;21mmerge\u001b[39m(\n\u001b[1;32m   (...)\u001b[0m\n\u001b[0;32m  10483\u001b[0m     validate: MergeValidate \u001b[38;5;241m|\u001b[39m \u001b[38;5;28;01mNone\u001b[39;00m \u001b[38;5;241m=\u001b[39m \u001b[38;5;28;01mNone\u001b[39;00m,\n\u001b[0;32m  10484\u001b[0m ) \u001b[38;5;241m-\u001b[39m\u001b[38;5;241m>\u001b[39m DataFrame:\n\u001b[0;32m  10485\u001b[0m     \u001b[38;5;28;01mfrom\u001b[39;00m \u001b[38;5;21;01mpandas\u001b[39;00m\u001b[38;5;21;01m.\u001b[39;00m\u001b[38;5;21;01mcore\u001b[39;00m\u001b[38;5;21;01m.\u001b[39;00m\u001b[38;5;21;01mreshape\u001b[39;00m\u001b[38;5;21;01m.\u001b[39;00m\u001b[38;5;21;01mmerge\u001b[39;00m \u001b[38;5;28;01mimport\u001b[39;00m merge\n\u001b[1;32m> 10487\u001b[0m     \u001b[38;5;28;01mreturn\u001b[39;00m merge(\n\u001b[0;32m  10488\u001b[0m         \u001b[38;5;28mself\u001b[39m,\n\u001b[0;32m  10489\u001b[0m         right,\n\u001b[0;32m  10490\u001b[0m         how\u001b[38;5;241m=\u001b[39mhow,\n\u001b[0;32m  10491\u001b[0m         on\u001b[38;5;241m=\u001b[39mon,\n\u001b[0;32m  10492\u001b[0m         left_on\u001b[38;5;241m=\u001b[39mleft_on,\n\u001b[0;32m  10493\u001b[0m         right_on\u001b[38;5;241m=\u001b[39mright_on,\n\u001b[0;32m  10494\u001b[0m         left_index\u001b[38;5;241m=\u001b[39mleft_index,\n\u001b[0;32m  10495\u001b[0m         right_index\u001b[38;5;241m=\u001b[39mright_index,\n\u001b[0;32m  10496\u001b[0m         sort\u001b[38;5;241m=\u001b[39msort,\n\u001b[0;32m  10497\u001b[0m         suffixes\u001b[38;5;241m=\u001b[39msuffixes,\n\u001b[0;32m  10498\u001b[0m         copy\u001b[38;5;241m=\u001b[39mcopy,\n\u001b[0;32m  10499\u001b[0m         indicator\u001b[38;5;241m=\u001b[39mindicator,\n\u001b[0;32m  10500\u001b[0m         validate\u001b[38;5;241m=\u001b[39mvalidate,\n\u001b[0;32m  10501\u001b[0m     )\n",
      "File \u001b[1;32m~\\anaconda3\\Lib\\site-packages\\pandas\\core\\reshape\\merge.py:183\u001b[0m, in \u001b[0;36mmerge\u001b[1;34m(left, right, how, on, left_on, right_on, left_index, right_index, sort, suffixes, copy, indicator, validate)\u001b[0m\n\u001b[0;32m    168\u001b[0m \u001b[38;5;28;01melse\u001b[39;00m:\n\u001b[0;32m    169\u001b[0m     op \u001b[38;5;241m=\u001b[39m _MergeOperation(\n\u001b[0;32m    170\u001b[0m         left_df,\n\u001b[0;32m    171\u001b[0m         right_df,\n\u001b[1;32m   (...)\u001b[0m\n\u001b[0;32m    181\u001b[0m         validate\u001b[38;5;241m=\u001b[39mvalidate,\n\u001b[0;32m    182\u001b[0m     )\n\u001b[1;32m--> 183\u001b[0m     \u001b[38;5;28;01mreturn\u001b[39;00m op\u001b[38;5;241m.\u001b[39mget_result(copy\u001b[38;5;241m=\u001b[39mcopy)\n",
      "File \u001b[1;32m~\\anaconda3\\Lib\\site-packages\\pandas\\core\\reshape\\merge.py:881\u001b[0m, in \u001b[0;36m_MergeOperation.get_result\u001b[1;34m(self, copy)\u001b[0m\n\u001b[0;32m    879\u001b[0m \u001b[38;5;28;01mdef\u001b[39;00m \u001b[38;5;21mget_result\u001b[39m(\u001b[38;5;28mself\u001b[39m, copy: \u001b[38;5;28mbool\u001b[39m \u001b[38;5;241m|\u001b[39m \u001b[38;5;28;01mNone\u001b[39;00m \u001b[38;5;241m=\u001b[39m \u001b[38;5;28;01mTrue\u001b[39;00m) \u001b[38;5;241m-\u001b[39m\u001b[38;5;241m>\u001b[39m DataFrame:\n\u001b[0;32m    880\u001b[0m     \u001b[38;5;28;01mif\u001b[39;00m \u001b[38;5;28mself\u001b[39m\u001b[38;5;241m.\u001b[39mindicator:\n\u001b[1;32m--> 881\u001b[0m         \u001b[38;5;28mself\u001b[39m\u001b[38;5;241m.\u001b[39mleft, \u001b[38;5;28mself\u001b[39m\u001b[38;5;241m.\u001b[39mright \u001b[38;5;241m=\u001b[39m \u001b[38;5;28mself\u001b[39m\u001b[38;5;241m.\u001b[39m_indicator_pre_merge(\u001b[38;5;28mself\u001b[39m\u001b[38;5;241m.\u001b[39mleft, \u001b[38;5;28mself\u001b[39m\u001b[38;5;241m.\u001b[39mright)\n\u001b[0;32m    883\u001b[0m     join_index, left_indexer, right_indexer \u001b[38;5;241m=\u001b[39m \u001b[38;5;28mself\u001b[39m\u001b[38;5;241m.\u001b[39m_get_join_info()\n\u001b[0;32m    885\u001b[0m     result \u001b[38;5;241m=\u001b[39m \u001b[38;5;28mself\u001b[39m\u001b[38;5;241m.\u001b[39m_reindex_and_concat(\n\u001b[0;32m    886\u001b[0m         join_index, left_indexer, right_indexer, copy\u001b[38;5;241m=\u001b[39mcopy\n\u001b[0;32m    887\u001b[0m     )\n",
      "File \u001b[1;32m~\\anaconda3\\Lib\\site-packages\\pandas\\core\\reshape\\merge.py:924\u001b[0m, in \u001b[0;36m_MergeOperation._indicator_pre_merge\u001b[1;34m(self, left, right)\u001b[0m\n\u001b[0;32m    919\u001b[0m         \u001b[38;5;28;01mraise\u001b[39;00m \u001b[38;5;167;01mValueError\u001b[39;00m(\n\u001b[0;32m    920\u001b[0m             \u001b[38;5;124m\"\u001b[39m\u001b[38;5;124mCannot use `indicator=True` option when \u001b[39m\u001b[38;5;124m\"\u001b[39m\n\u001b[0;32m    921\u001b[0m             \u001b[38;5;124mf\u001b[39m\u001b[38;5;124m\"\u001b[39m\u001b[38;5;124mdata contains a column named \u001b[39m\u001b[38;5;132;01m{\u001b[39;00mi\u001b[38;5;132;01m}\u001b[39;00m\u001b[38;5;124m\"\u001b[39m\n\u001b[0;32m    922\u001b[0m         )\n\u001b[0;32m    923\u001b[0m \u001b[38;5;28;01mif\u001b[39;00m \u001b[38;5;28mself\u001b[39m\u001b[38;5;241m.\u001b[39m_indicator_name \u001b[38;5;129;01min\u001b[39;00m columns:\n\u001b[1;32m--> 924\u001b[0m     \u001b[38;5;28;01mraise\u001b[39;00m \u001b[38;5;167;01mValueError\u001b[39;00m(\n\u001b[0;32m    925\u001b[0m         \u001b[38;5;124m\"\u001b[39m\u001b[38;5;124mCannot use name of an existing column for indicator column\u001b[39m\u001b[38;5;124m\"\u001b[39m\n\u001b[0;32m    926\u001b[0m     )\n\u001b[0;32m    928\u001b[0m left \u001b[38;5;241m=\u001b[39m left\u001b[38;5;241m.\u001b[39mcopy()\n\u001b[0;32m    929\u001b[0m right \u001b[38;5;241m=\u001b[39m right\u001b[38;5;241m.\u001b[39mcopy()\n",
      "\u001b[1;31mValueError\u001b[0m: Cannot use name of an existing column for indicator column"
     ]
    }
   ],
   "source": [
    "#Q5 Merging two data frames (inner Join):\n",
    "\n",
    "ords_prods_merge = orders_products_combined.merge(df_prods, on = 'product_id', indicator = True)\n",
    "ords_prods_merge['_merge'].value_counts(dropna = False)"
   ]
  },
  {
   "cell_type": "code",
   "execution_count": 21,
   "id": "cec78ae7-1b0d-452b-b833-0494d6341b06",
   "metadata": {},
   "outputs": [],
   "source": [
    "orders_products_combined.drop(columns = ['_merge'], inplace = True)"
   ]
  },
  {
   "cell_type": "code",
   "execution_count": 22,
   "id": "191d0e0a-8e7a-4aaa-b378-542a8d438298",
   "metadata": {},
   "outputs": [
    {
     "data": {
      "text/plain": [
       "_merge\n",
       "both          32404859\n",
       "left_only        30200\n",
       "right_only          11\n",
       "Name: count, dtype: int64"
      ]
     },
     "execution_count": 22,
     "metadata": {},
     "output_type": "execute_result"
    }
   ],
   "source": [
    "# Merging two data frames (outer Join):\n",
    "ords_prods_merge = orders_products_combined.merge(df_prods, on = 'product_id', how = 'outer', indicator = True)\n",
    "ords_prods_merge['_merge'].value_counts(dropna = False)"
   ]
  },
  {
   "cell_type": "code",
   "execution_count": 23,
   "id": "e6969a53-19d2-48b6-84ef-2cfe4ed80f82",
   "metadata": {},
   "outputs": [
    {
     "data": {
      "text/plain": [
       "order_id                   11\n",
       "user_id                    11\n",
       "order_number               11\n",
       "orders_day_of_week         11\n",
       "order_hour_of_day          11\n",
       "last_order_days       2078113\n",
       "first_order                11\n",
       "product_id                  0\n",
       "add_to_cart_order          11\n",
       "reordered                  11\n",
       "product_name            30200\n",
       "aisle_id                30200\n",
       "department_id           30200\n",
       "prices                  30200\n",
       "_merge                      0\n",
       "dtype: int64"
      ]
     },
     "execution_count": 23,
     "metadata": {},
     "output_type": "execute_result"
    }
   ],
   "source": [
    "ords_prods_merge.isnull().sum()"
   ]
  },
  {
   "cell_type": "markdown",
   "id": "e534e267-9bcb-4694-8692-506510e50088",
   "metadata": {},
   "source": [
    "### Step 6. Confirm the results of the merge using the merge flag"
   ]
  },
  {
   "cell_type": "code",
   "execution_count": 24,
   "id": "2693c0c0-6c94-4bc1-a5cc-a70d62ccfd2c",
   "metadata": {},
   "outputs": [
    {
     "data": {
      "text/plain": [
       "_merge\n",
       "both          32404859\n",
       "left_only            0\n",
       "right_only           0\n",
       "Name: count, dtype: int64"
      ]
     },
     "execution_count": 24,
     "metadata": {},
     "output_type": "execute_result"
    }
   ],
   "source": [
    "# Merging two data frames (inner Join):\n",
    "\n",
    "ords_prods_merge = orders_products_combined.merge(df_prods, on = 'product_id', indicator = True)\n",
    "ords_prods_merge['_merge'].value_counts(dropna = False)"
   ]
  },
  {
   "cell_type": "code",
   "execution_count": 25,
   "id": "a4ed77e2-11fa-416a-a3bb-7b9d31476ee6",
   "metadata": {},
   "outputs": [
    {
     "data": {
      "text/plain": [
       "(32404859, 15)"
      ]
     },
     "execution_count": 25,
     "metadata": {},
     "output_type": "execute_result"
    }
   ],
   "source": [
    "ords_prods_merge.shape"
   ]
  },
  {
   "cell_type": "markdown",
   "id": "055d7463-f186-44a4-a199-73d10c5bc144",
   "metadata": {},
   "source": [
    "### Step 7. Export the file"
   ]
  },
  {
   "cell_type": "code",
   "execution_count": 26,
   "id": "2eaea4a5-bfd8-4e65-a5fa-d2ce276f35d0",
   "metadata": {},
   "outputs": [],
   "source": [
    "ords_prods_merge.to_pickle(os.path.join(path, '02 Data', 'Prepared Data', 'ords_prods_merge.pkl'))"
   ]
  },
  {
   "cell_type": "code",
   "execution_count": null,
   "id": "eb0edf05-45e4-458c-81bc-14cdd16770f5",
   "metadata": {},
   "outputs": [],
   "source": []
  }
 ],
 "metadata": {
  "kernelspec": {
   "display_name": "Python 3 (ipykernel)",
   "language": "python",
   "name": "python3"
  },
  "language_info": {
   "codemirror_mode": {
    "name": "ipython",
    "version": 3
   },
   "file_extension": ".py",
   "mimetype": "text/x-python",
   "name": "python",
   "nbconvert_exporter": "python",
   "pygments_lexer": "ipython3",
   "version": "3.11.4"
  }
 },
 "nbformat": 4,
 "nbformat_minor": 5
}
