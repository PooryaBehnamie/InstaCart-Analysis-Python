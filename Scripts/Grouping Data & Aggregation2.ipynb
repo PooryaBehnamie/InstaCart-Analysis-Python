{
 "cells": [
  {
   "cell_type": "markdown",
   "id": "3d41e1b0-6d19-42aa-b8a4-21294c76be30",
   "metadata": {},
   "source": [
    "## 4.8 Grouping Data & Aggregation Variables\n",
    "\n",
    "### This script includes the following points:"
   ]
  },
  {
   "cell_type": "markdown",
   "id": "092d04c3-2006-46e2-a6ac-ab719677b769",
   "metadata": {},
   "source": [
    "#### 1. Import the data\n",
    "#### 2. Q2:find the aggregated mean of the “order_number” column grouped by “department_id”\n",
    "#### 3. Q4: Creating a loyalty flag for existing customers using the transform() and loc() functions\n",
    "#### 4. Q5: Difference between the spending habits of the three types of customers \n",
    "#### 5. Q6: Creating a Spending flag for existing customers\n",
    "#### 6. Q7: Creating a Frequently flag for existing customers\n",
    "#### 7. Exporting Data"
   ]
  },
  {
   "cell_type": "markdown",
   "id": "1d491c9b-5284-45b1-932d-00ef20d11537",
   "metadata": {},
   "source": [
    "### 1. Import the data"
   ]
  },
  {
   "cell_type": "code",
   "execution_count": 1,
   "id": "28d565c8-7f62-48fa-b1b6-e31da038b76c",
   "metadata": {},
   "outputs": [],
   "source": [
    "# import libraries\n",
    "import pandas as pd\n",
    "import numpy as np\n",
    "import os"
   ]
  },
  {
   "cell_type": "code",
   "execution_count": 2,
   "id": "be76bf3a-dcc1-4b84-b8ff-bb5a08ddf72f",
   "metadata": {},
   "outputs": [],
   "source": [
    "path = r\"C:\\Users\\Poory\\OneDrive\\Desktop\\project\\Instacart Basket Analysis\""
   ]
  },
  {
   "cell_type": "code",
   "execution_count": 3,
   "id": "6f41a158-a571-4e68-8063-15ce87077c6b",
   "metadata": {},
   "outputs": [],
   "source": [
    "ords_prods_merge = pd.read_pickle(os.path.join(path, '02 Data', 'Prepared Data', 'ords_prods_merge.pkl'))"
   ]
  },
  {
   "cell_type": "code",
   "execution_count": 4,
   "id": "3d68b4fe-22ef-40d0-a5a4-7823f7f3ec59",
   "metadata": {},
   "outputs": [
    {
     "data": {
      "text/plain": [
       "(32404859, 21)"
      ]
     },
     "execution_count": 4,
     "metadata": {},
     "output_type": "execute_result"
    }
   ],
   "source": [
    "ords_prods_merge.shape"
   ]
  },
  {
   "cell_type": "code",
   "execution_count": 5,
   "id": "a4591ebf-21e9-4126-a901-52acc8ae0c1b",
   "metadata": {},
   "outputs": [],
   "source": [
    "pd.options.display.max_rows = None"
   ]
  },
  {
   "cell_type": "markdown",
   "id": "373d047b-f86f-4976-8758-c925cfd899ed",
   "metadata": {},
   "source": [
    "### 2. Q2:find the aggregated mean of the “order_number” column grouped by “department_id”"
   ]
  },
  {
   "cell_type": "code",
   "execution_count": 6,
   "id": "a5a7bdc4-6a99-497b-840c-c39b0f0a6e1f",
   "metadata": {},
   "outputs": [
    {
     "data": {
      "text/plain": [
       "department_id\n",
       "1     15.457838\n",
       "2     17.277920\n",
       "3     17.170395\n",
       "4     17.811403\n",
       "5     15.215751\n",
       "6     16.439806\n",
       "7     17.225802\n",
       "8     15.340650\n",
       "9     15.895474\n",
       "10    20.197148\n",
       "11    16.170638\n",
       "12    15.887671\n",
       "13    16.583536\n",
       "14    16.773669\n",
       "15    16.165037\n",
       "16    17.665606\n",
       "17    15.694469\n",
       "18    19.310397\n",
       "19    17.177343\n",
       "20    16.473447\n",
       "21    22.902379\n",
       "Name: order_number, dtype: float64"
      ]
     },
     "execution_count": 6,
     "metadata": {},
     "output_type": "execute_result"
    }
   ],
   "source": [
    "ords_prods_merge.groupby('department_id')['order_number'].mean()"
   ]
  },
  {
   "cell_type": "markdown",
   "id": "17d6299f-3669-4253-88b4-57f47c2c68dc",
   "metadata": {},
   "source": [
    "#### Q3: In our subset department_id 16,14, and 19 had the most orders and deparment_id 17 had the least orders average \n",
    "####  while, in entire data set departments 10, 21 have the most orders average and departments 1, 5, and 8 have the least orders."
   ]
  },
  {
   "cell_type": "markdown",
   "id": "e703f65c-36a0-4390-a671-11b6af654421",
   "metadata": {},
   "source": [
    "### 3. Q4: Creating a loyalty flag for existing customers using the transform() and loc() functions"
   ]
  },
  {
   "cell_type": "code",
   "execution_count": 7,
   "id": "95ff979c-4614-4c67-b3ad-fdcde872f219",
   "metadata": {},
   "outputs": [
    {
     "name": "stderr",
     "output_type": "stream",
     "text": [
      "C:\\Users\\Poory\\AppData\\Local\\Temp\\ipykernel_19992\\1681540670.py:1: FutureWarning: The provided callable <function amax at 0x00000245A5566A20> is currently using SeriesGroupBy.max. In a future version of pandas, the provided callable will be used directly. To keep current behavior pass the string \"max\" instead.\n",
      "  ords_prods_merge['max_order'] = ords_prods_merge.groupby(['user_id'])['order_number'].transform(np.max)\n"
     ]
    }
   ],
   "source": [
    "ords_prods_merge['max_order'] = ords_prods_merge.groupby(['user_id'])['order_number'].transform(np.max)"
   ]
  },
  {
   "cell_type": "code",
   "execution_count": 8,
   "id": "54c4bfc3-1513-4d36-8018-3b6435b6912f",
   "metadata": {},
   "outputs": [],
   "source": [
    "ords_prods_merge.loc[ords_prods_merge['max_order'] > 40, 'loyalty_flag'] = 'Loyal customer'"
   ]
  },
  {
   "cell_type": "code",
   "execution_count": 9,
   "id": "7188a1c4-f333-4091-9780-2b7eb1857d80",
   "metadata": {},
   "outputs": [],
   "source": [
    "ords_prods_merge.loc[(ords_prods_merge['max_order'] <= 40) & (ords_prods_merge['max_order'] > 10), 'loyalty_flag'] = 'Regular customer'"
   ]
  },
  {
   "cell_type": "code",
   "execution_count": 10,
   "id": "4b37fd60-c468-4c16-b2e6-f2ace095c63c",
   "metadata": {},
   "outputs": [],
   "source": [
    "ords_prods_merge.loc[ords_prods_merge['max_order'] <= 10, 'loyalty_flag'] = 'New customer'"
   ]
  },
  {
   "cell_type": "code",
   "execution_count": 11,
   "id": "c8165292-a17f-432f-b901-d9dfa4d33304",
   "metadata": {},
   "outputs": [
    {
     "data": {
      "text/plain": [
       "loyalty_flag\n",
       "Regular customer    15876776\n",
       "Loyal customer      10284093\n",
       "New customer         6243990\n",
       "Name: count, dtype: int64"
      ]
     },
     "execution_count": 11,
     "metadata": {},
     "output_type": "execute_result"
    }
   ],
   "source": [
    "ords_prods_merge['loyalty_flag'].value_counts(dropna = False)"
   ]
  },
  {
   "cell_type": "markdown",
   "id": "491d1c04-81e6-4681-8461-92a0963a0709",
   "metadata": {},
   "source": [
    "### 4. Q5: Difference between the spending habits of the three types of customers "
   ]
  },
  {
   "cell_type": "code",
   "execution_count": 12,
   "id": "ab1dde49-6bca-4bca-b538-ced1a5cd64a7",
   "metadata": {},
   "outputs": [
    {
     "data": {
      "text/html": [
       "<div>\n",
       "<style scoped>\n",
       "    .dataframe tbody tr th:only-of-type {\n",
       "        vertical-align: middle;\n",
       "    }\n",
       "\n",
       "    .dataframe tbody tr th {\n",
       "        vertical-align: top;\n",
       "    }\n",
       "\n",
       "    .dataframe thead tr th {\n",
       "        text-align: left;\n",
       "    }\n",
       "\n",
       "    .dataframe thead tr:last-of-type th {\n",
       "        text-align: right;\n",
       "    }\n",
       "</style>\n",
       "<table border=\"1\" class=\"dataframe\">\n",
       "  <thead>\n",
       "    <tr>\n",
       "      <th></th>\n",
       "      <th colspan=\"3\" halign=\"left\">prices</th>\n",
       "    </tr>\n",
       "    <tr>\n",
       "      <th></th>\n",
       "      <th>mean</th>\n",
       "      <th>min</th>\n",
       "      <th>max</th>\n",
       "    </tr>\n",
       "    <tr>\n",
       "      <th>loyalty_flag</th>\n",
       "      <th></th>\n",
       "      <th></th>\n",
       "      <th></th>\n",
       "    </tr>\n",
       "  </thead>\n",
       "  <tbody>\n",
       "    <tr>\n",
       "      <th>Loyal customer</th>\n",
       "      <td>7.774457</td>\n",
       "      <td>1.0</td>\n",
       "      <td>25.0</td>\n",
       "    </tr>\n",
       "    <tr>\n",
       "      <th>New customer</th>\n",
       "      <td>7.802354</td>\n",
       "      <td>1.0</td>\n",
       "      <td>25.0</td>\n",
       "    </tr>\n",
       "    <tr>\n",
       "      <th>Regular customer</th>\n",
       "      <td>7.799319</td>\n",
       "      <td>1.0</td>\n",
       "      <td>25.0</td>\n",
       "    </tr>\n",
       "  </tbody>\n",
       "</table>\n",
       "</div>"
      ],
      "text/plain": [
       "                    prices           \n",
       "                      mean  min   max\n",
       "loyalty_flag                         \n",
       "Loyal customer    7.774457  1.0  25.0\n",
       "New customer      7.802354  1.0  25.0\n",
       "Regular customer  7.799319  1.0  25.0"
      ]
     },
     "execution_count": 12,
     "metadata": {},
     "output_type": "execute_result"
    }
   ],
   "source": [
    "ords_prods_merge.groupby('loyalty_flag').agg({'prices' : ['mean', 'min', 'max']})"
   ]
  },
  {
   "cell_type": "markdown",
   "id": "3e6e065f-775a-47cb-9091-6492dfb4a603",
   "metadata": {},
   "source": [
    "### 5. Q6: Creating a Spending flag for existing customers using the transform() and loc() functions"
   ]
  },
  {
   "cell_type": "code",
   "execution_count": 13,
   "id": "5e52d6ca-9596-43f6-95ad-f803a7fed1ee",
   "metadata": {},
   "outputs": [
    {
     "name": "stderr",
     "output_type": "stream",
     "text": [
      "C:\\Users\\Poory\\AppData\\Local\\Temp\\ipykernel_19992\\3888050640.py:1: FutureWarning: The provided callable <function mean at 0x00000245A5567740> is currently using SeriesGroupBy.mean. In a future version of pandas, the provided callable will be used directly. To keep current behavior pass the string \"mean\" instead.\n",
      "  ords_prods_merge['avg_spent'] = ords_prods_merge.groupby(['user_id'])['prices'].transform(np.mean)\n"
     ]
    }
   ],
   "source": [
    "ords_prods_merge['avg_spent'] = ords_prods_merge.groupby(['user_id'])['prices'].transform(np.mean)"
   ]
  },
  {
   "cell_type": "code",
   "execution_count": 14,
   "id": "ac2633c2-3b15-481e-9ceb-1cfc96384fc1",
   "metadata": {},
   "outputs": [],
   "source": [
    "ords_prods_merge.loc[ords_prods_merge['avg_spent'] < 10, 'spending_flag'] = 'Low spender'"
   ]
  },
  {
   "cell_type": "code",
   "execution_count": 15,
   "id": "bc7194d9-a9fe-40e1-8c28-e599cde2ce52",
   "metadata": {},
   "outputs": [],
   "source": [
    "ords_prods_merge.loc[ords_prods_merge['avg_spent'] >= 10, 'spending_flag'] = 'High spender'"
   ]
  },
  {
   "cell_type": "code",
   "execution_count": 16,
   "id": "730ba479-06c6-44a3-8b7a-df958c3fed25",
   "metadata": {},
   "outputs": [
    {
     "data": {
      "text/plain": [
       "spending_flag\n",
       "Low spender     32284898\n",
       "High spender      119961\n",
       "Name: count, dtype: int64"
      ]
     },
     "execution_count": 16,
     "metadata": {},
     "output_type": "execute_result"
    }
   ],
   "source": [
    "ords_prods_merge['spending_flag'].value_counts(dropna = False)"
   ]
  },
  {
   "cell_type": "code",
   "execution_count": 17,
   "id": "b3e7df4d-d856-4cd9-9d26-c1a93b247848",
   "metadata": {},
   "outputs": [
    {
     "data": {
      "text/html": [
       "<div>\n",
       "<style scoped>\n",
       "    .dataframe tbody tr th:only-of-type {\n",
       "        vertical-align: middle;\n",
       "    }\n",
       "\n",
       "    .dataframe tbody tr th {\n",
       "        vertical-align: top;\n",
       "    }\n",
       "\n",
       "    .dataframe thead th {\n",
       "        text-align: right;\n",
       "    }\n",
       "</style>\n",
       "<table border=\"1\" class=\"dataframe\">\n",
       "  <thead>\n",
       "    <tr style=\"text-align: right;\">\n",
       "      <th></th>\n",
       "      <th>order_id</th>\n",
       "      <th>user_id</th>\n",
       "      <th>order_number</th>\n",
       "      <th>orders_day_of_week</th>\n",
       "      <th>order_hour_of_day</th>\n",
       "      <th>last_order_days</th>\n",
       "      <th>first_order</th>\n",
       "      <th>product_id</th>\n",
       "      <th>add_to_cart_order</th>\n",
       "      <th>reordered</th>\n",
       "      <th>...</th>\n",
       "      <th>prices</th>\n",
       "      <th>_merge</th>\n",
       "      <th>price_range</th>\n",
       "      <th>busiest_day</th>\n",
       "      <th>busiest_days</th>\n",
       "      <th>busiest_period_of_day</th>\n",
       "      <th>max_order</th>\n",
       "      <th>loyalty_flag</th>\n",
       "      <th>avg_spent</th>\n",
       "      <th>spending_flag</th>\n",
       "    </tr>\n",
       "  </thead>\n",
       "  <tbody>\n",
       "    <tr>\n",
       "      <th>0</th>\n",
       "      <td>2539329</td>\n",
       "      <td>1</td>\n",
       "      <td>1</td>\n",
       "      <td>2</td>\n",
       "      <td>8</td>\n",
       "      <td>NaN</td>\n",
       "      <td>True</td>\n",
       "      <td>196</td>\n",
       "      <td>1</td>\n",
       "      <td>0</td>\n",
       "      <td>...</td>\n",
       "      <td>9.0</td>\n",
       "      <td>both</td>\n",
       "      <td>Mid-range product</td>\n",
       "      <td>Regularly busy</td>\n",
       "      <td>Regularly busy</td>\n",
       "      <td>Average Orders</td>\n",
       "      <td>10</td>\n",
       "      <td>New customer</td>\n",
       "      <td>6.367797</td>\n",
       "      <td>Low spender</td>\n",
       "    </tr>\n",
       "    <tr>\n",
       "      <th>1</th>\n",
       "      <td>2398795</td>\n",
       "      <td>1</td>\n",
       "      <td>2</td>\n",
       "      <td>3</td>\n",
       "      <td>7</td>\n",
       "      <td>15.0</td>\n",
       "      <td>False</td>\n",
       "      <td>196</td>\n",
       "      <td>1</td>\n",
       "      <td>1</td>\n",
       "      <td>...</td>\n",
       "      <td>9.0</td>\n",
       "      <td>both</td>\n",
       "      <td>Mid-range product</td>\n",
       "      <td>Regularly busy</td>\n",
       "      <td>Two Least busy days</td>\n",
       "      <td>Average Orders</td>\n",
       "      <td>10</td>\n",
       "      <td>New customer</td>\n",
       "      <td>6.367797</td>\n",
       "      <td>Low spender</td>\n",
       "    </tr>\n",
       "    <tr>\n",
       "      <th>2</th>\n",
       "      <td>473747</td>\n",
       "      <td>1</td>\n",
       "      <td>3</td>\n",
       "      <td>3</td>\n",
       "      <td>12</td>\n",
       "      <td>21.0</td>\n",
       "      <td>False</td>\n",
       "      <td>196</td>\n",
       "      <td>1</td>\n",
       "      <td>1</td>\n",
       "      <td>...</td>\n",
       "      <td>9.0</td>\n",
       "      <td>both</td>\n",
       "      <td>Mid-range product</td>\n",
       "      <td>Regularly busy</td>\n",
       "      <td>Two Least busy days</td>\n",
       "      <td>Most Orders</td>\n",
       "      <td>10</td>\n",
       "      <td>New customer</td>\n",
       "      <td>6.367797</td>\n",
       "      <td>Low spender</td>\n",
       "    </tr>\n",
       "    <tr>\n",
       "      <th>3</th>\n",
       "      <td>2254736</td>\n",
       "      <td>1</td>\n",
       "      <td>4</td>\n",
       "      <td>4</td>\n",
       "      <td>7</td>\n",
       "      <td>29.0</td>\n",
       "      <td>False</td>\n",
       "      <td>196</td>\n",
       "      <td>1</td>\n",
       "      <td>1</td>\n",
       "      <td>...</td>\n",
       "      <td>9.0</td>\n",
       "      <td>both</td>\n",
       "      <td>Mid-range product</td>\n",
       "      <td>Least busy</td>\n",
       "      <td>Two Least busy days</td>\n",
       "      <td>Average Orders</td>\n",
       "      <td>10</td>\n",
       "      <td>New customer</td>\n",
       "      <td>6.367797</td>\n",
       "      <td>Low spender</td>\n",
       "    </tr>\n",
       "    <tr>\n",
       "      <th>4</th>\n",
       "      <td>431534</td>\n",
       "      <td>1</td>\n",
       "      <td>5</td>\n",
       "      <td>4</td>\n",
       "      <td>15</td>\n",
       "      <td>28.0</td>\n",
       "      <td>False</td>\n",
       "      <td>196</td>\n",
       "      <td>1</td>\n",
       "      <td>1</td>\n",
       "      <td>...</td>\n",
       "      <td>9.0</td>\n",
       "      <td>both</td>\n",
       "      <td>Mid-range product</td>\n",
       "      <td>Least busy</td>\n",
       "      <td>Two Least busy days</td>\n",
       "      <td>Most Orders</td>\n",
       "      <td>10</td>\n",
       "      <td>New customer</td>\n",
       "      <td>6.367797</td>\n",
       "      <td>Low spender</td>\n",
       "    </tr>\n",
       "  </tbody>\n",
       "</table>\n",
       "<p>5 rows × 23 columns</p>\n",
       "</div>"
      ],
      "text/plain": [
       "   order_id  user_id  order_number  orders_day_of_week  order_hour_of_day  \\\n",
       "0   2539329        1             1                   2                  8   \n",
       "1   2398795        1             2                   3                  7   \n",
       "2    473747        1             3                   3                 12   \n",
       "3   2254736        1             4                   4                  7   \n",
       "4    431534        1             5                   4                 15   \n",
       "\n",
       "   last_order_days  first_order  product_id  add_to_cart_order  reordered  \\\n",
       "0              NaN         True         196                  1          0   \n",
       "1             15.0        False         196                  1          1   \n",
       "2             21.0        False         196                  1          1   \n",
       "3             29.0        False         196                  1          1   \n",
       "4             28.0        False         196                  1          1   \n",
       "\n",
       "   ... prices  _merge        price_range     busiest_day         busiest_days  \\\n",
       "0  ...    9.0    both  Mid-range product  Regularly busy       Regularly busy   \n",
       "1  ...    9.0    both  Mid-range product  Regularly busy  Two Least busy days   \n",
       "2  ...    9.0    both  Mid-range product  Regularly busy  Two Least busy days   \n",
       "3  ...    9.0    both  Mid-range product      Least busy  Two Least busy days   \n",
       "4  ...    9.0    both  Mid-range product      Least busy  Two Least busy days   \n",
       "\n",
       "  busiest_period_of_day max_order  loyalty_flag avg_spent  spending_flag  \n",
       "0        Average Orders        10  New customer  6.367797    Low spender  \n",
       "1        Average Orders        10  New customer  6.367797    Low spender  \n",
       "2           Most Orders        10  New customer  6.367797    Low spender  \n",
       "3        Average Orders        10  New customer  6.367797    Low spender  \n",
       "4           Most Orders        10  New customer  6.367797    Low spender  \n",
       "\n",
       "[5 rows x 23 columns]"
      ]
     },
     "execution_count": 17,
     "metadata": {},
     "output_type": "execute_result"
    }
   ],
   "source": [
    "ords_prods_merge.head()"
   ]
  },
  {
   "cell_type": "markdown",
   "id": "72f5ffa9-ab4c-4895-929e-b6144629fd92",
   "metadata": {},
   "source": [
    "### 6. Q7: Creating a Frequently flag for existing customers using the transform() and loc() functions"
   ]
  },
  {
   "cell_type": "code",
   "execution_count": 18,
   "id": "c125c57f-80bf-4b4b-9a7a-744649605818",
   "metadata": {},
   "outputs": [
    {
     "name": "stderr",
     "output_type": "stream",
     "text": [
      "C:\\Users\\Poory\\AppData\\Local\\Temp\\ipykernel_19992\\3206016764.py:1: FutureWarning: The provided callable <function median at 0x00000245A56B4720> is currently using SeriesGroupBy.median. In a future version of pandas, the provided callable will be used directly. To keep current behavior pass the string \"median\" instead.\n",
      "  ords_prods_merge['order_freq_med'] = ords_prods_merge.groupby(['user_id'])['last_order_days'].transform(np.median)\n"
     ]
    }
   ],
   "source": [
    "ords_prods_merge['order_freq_med'] = ords_prods_merge.groupby(['user_id'])['last_order_days'].transform(np.median)"
   ]
  },
  {
   "cell_type": "code",
   "execution_count": 19,
   "id": "6f421ddb-154d-441d-ab9a-87d917128bd7",
   "metadata": {},
   "outputs": [],
   "source": [
    "ords_prods_merge.loc[ords_prods_merge['order_freq_med'] > 20, 'frequency_flag'] = 'Non-frequent customer'"
   ]
  },
  {
   "cell_type": "code",
   "execution_count": 20,
   "id": "d0c66e48-9da1-4205-acd4-3425c2732905",
   "metadata": {},
   "outputs": [],
   "source": [
    "ords_prods_merge.loc[(ords_prods_merge['order_freq_med'] > 10) &  (ords_prods_merge['order_freq_med'] <= 20), 'frequency_flag'] = 'Regular customer'"
   ]
  },
  {
   "cell_type": "code",
   "execution_count": 21,
   "id": "11d3eacc-efb5-495f-959f-ec3e07ff000a",
   "metadata": {},
   "outputs": [],
   "source": [
    "ords_prods_merge.loc[ords_prods_merge['order_freq_med'] <= 10, 'frequency_flag'] = 'Frequent customer'"
   ]
  },
  {
   "cell_type": "code",
   "execution_count": 22,
   "id": "793232ac-7026-48d9-abc8-814cae73d6e1",
   "metadata": {
    "scrolled": true
   },
   "outputs": [
    {
     "data": {
      "text/plain": [
       "frequency_flag\n",
       "Frequent customer        21559853\n",
       "Regular customer          7208564\n",
       "Non-frequent customer     3636437\n",
       "nan                             5\n",
       "Name: count, dtype: int64"
      ]
     },
     "execution_count": 22,
     "metadata": {},
     "output_type": "execute_result"
    }
   ],
   "source": [
    "ords_prods_merge['frequency_flag'].value_counts(dropna = False)"
   ]
  },
  {
   "cell_type": "markdown",
   "id": "0f0f110e-1729-42a9-9a43-1c1c3fe8a016",
   "metadata": {},
   "source": [
    "### 7. Exporting Data"
   ]
  },
  {
   "cell_type": "code",
   "execution_count": 24,
   "id": "892304ec-e058-49e0-bfa4-836e696fa634",
   "metadata": {},
   "outputs": [],
   "source": [
    "ords_prods_merge.to_pickle(os.path.join(path, '02 Data', 'Prepared Data', 'ords_prods_merge_tsk48.pkl'))"
   ]
  },
  {
   "cell_type": "code",
   "execution_count": null,
   "id": "d816009f-17bc-4d2e-aa19-2e35fabeeaae",
   "metadata": {},
   "outputs": [],
   "source": []
  }
 ],
 "metadata": {
  "kernelspec": {
   "display_name": "Python 3 (ipykernel)",
   "language": "python",
   "name": "python3"
  },
  "language_info": {
   "codemirror_mode": {
    "name": "ipython",
    "version": 3
   },
   "file_extension": ".py",
   "mimetype": "text/x-python",
   "name": "python",
   "nbconvert_exporter": "python",
   "pygments_lexer": "ipython3",
   "version": "3.11.4"
  }
 },
 "nbformat": 4,
 "nbformat_minor": 5
}
