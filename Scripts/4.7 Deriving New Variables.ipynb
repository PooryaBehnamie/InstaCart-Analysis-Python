{
 "cells": [
  {
   "cell_type": "markdown",
   "id": "6b140245-26f6-4f5c-ab3c-625af2ebd8e4",
   "metadata": {},
   "source": [
    "## 4.6.1 Merging and exporting data\n",
    "\n",
    "### This script includes the following points:"
   ]
  },
  {
   "cell_type": "markdown",
   "id": "03a00706-2756-4ead-862a-c0128f702f30",
   "metadata": {},
   "source": [
    "#### 1. Import the data\n",
    "#### 2. Define a functuon\n",
    "#### 3. Use df.loc() instead of user-defined function and If statement\n",
    "#### 4. Use FOR loop to create new column\n",
    "#### 5. Q2 Make new column: busiest days\n",
    "#### 6. Q4 Make new column: busiest_period_of_day\n",
    "#### 7. Q5 Print the frequency for this new column\n",
    "#### 8. Exporting data"
   ]
  },
  {
   "cell_type": "markdown",
   "id": "742a2f7e-577b-473b-b9cc-d46539986c5b",
   "metadata": {},
   "source": [
    "### 1. Import the data"
   ]
  },
  {
   "cell_type": "code",
   "execution_count": 1,
   "id": "f35642ea-e794-4ffd-8809-4b3af74e6434",
   "metadata": {},
   "outputs": [],
   "source": [
    "# import libraries\n",
    "import pandas as pd\n",
    "import numpy as np\n",
    "import os"
   ]
  },
  {
   "cell_type": "code",
   "execution_count": 2,
   "id": "f544c10c-17bd-4dd1-acd6-55f2502e7bc6",
   "metadata": {},
   "outputs": [],
   "source": [
    "path = r\"C:\\Users\\Poory\\OneDrive\\Desktop\\project\\Instacart Basket Analysis\""
   ]
  },
  {
   "cell_type": "code",
   "execution_count": 3,
   "id": "15f63e46-79da-453d-9c7b-3b47278a0d90",
   "metadata": {},
   "outputs": [],
   "source": [
    "ords_prods_merge = pd.read_pickle(os.path.join(path, '02 Data', 'Prepared Data', 'ords_prods_merge.pkl'))"
   ]
  },
  {
   "cell_type": "code",
   "execution_count": 4,
   "id": "5d6c0ad7-0f6b-4957-ad9e-007bf825b0d3",
   "metadata": {},
   "outputs": [],
   "source": [
    "df = ords_prods_merge[:1000000]"
   ]
  },
  {
   "cell_type": "code",
   "execution_count": 5,
   "id": "24d3ec42-48b7-4165-8b49-91d4eadffd68",
   "metadata": {},
   "outputs": [
    {
     "data": {
      "text/plain": [
       "(1000000, 15)"
      ]
     },
     "execution_count": 5,
     "metadata": {},
     "output_type": "execute_result"
    }
   ],
   "source": [
    "df.shape"
   ]
  },
  {
   "cell_type": "code",
   "execution_count": 6,
   "id": "bf03e991-7a92-4ae3-9528-ac79d8220f70",
   "metadata": {},
   "outputs": [
    {
     "data": {
      "text/html": [
       "<div>\n",
       "<style scoped>\n",
       "    .dataframe tbody tr th:only-of-type {\n",
       "        vertical-align: middle;\n",
       "    }\n",
       "\n",
       "    .dataframe tbody tr th {\n",
       "        vertical-align: top;\n",
       "    }\n",
       "\n",
       "    .dataframe thead th {\n",
       "        text-align: right;\n",
       "    }\n",
       "</style>\n",
       "<table border=\"1\" class=\"dataframe\">\n",
       "  <thead>\n",
       "    <tr style=\"text-align: right;\">\n",
       "      <th></th>\n",
       "      <th>order_id</th>\n",
       "      <th>user_id</th>\n",
       "      <th>order_number</th>\n",
       "      <th>orders_day_of_week</th>\n",
       "      <th>order_hour_of_day</th>\n",
       "      <th>last_order_days</th>\n",
       "      <th>first_order</th>\n",
       "      <th>product_id</th>\n",
       "      <th>add_to_cart_order</th>\n",
       "      <th>reordered</th>\n",
       "      <th>product_name</th>\n",
       "      <th>aisle_id</th>\n",
       "      <th>department_id</th>\n",
       "      <th>prices</th>\n",
       "      <th>_merge</th>\n",
       "    </tr>\n",
       "  </thead>\n",
       "  <tbody>\n",
       "    <tr>\n",
       "      <th>0</th>\n",
       "      <td>2539329</td>\n",
       "      <td>1</td>\n",
       "      <td>1</td>\n",
       "      <td>2</td>\n",
       "      <td>8</td>\n",
       "      <td>NaN</td>\n",
       "      <td>True</td>\n",
       "      <td>196</td>\n",
       "      <td>1</td>\n",
       "      <td>0</td>\n",
       "      <td>Soda</td>\n",
       "      <td>77</td>\n",
       "      <td>7</td>\n",
       "      <td>9.0</td>\n",
       "      <td>both</td>\n",
       "    </tr>\n",
       "    <tr>\n",
       "      <th>1</th>\n",
       "      <td>2398795</td>\n",
       "      <td>1</td>\n",
       "      <td>2</td>\n",
       "      <td>3</td>\n",
       "      <td>7</td>\n",
       "      <td>15.0</td>\n",
       "      <td>False</td>\n",
       "      <td>196</td>\n",
       "      <td>1</td>\n",
       "      <td>1</td>\n",
       "      <td>Soda</td>\n",
       "      <td>77</td>\n",
       "      <td>7</td>\n",
       "      <td>9.0</td>\n",
       "      <td>both</td>\n",
       "    </tr>\n",
       "    <tr>\n",
       "      <th>2</th>\n",
       "      <td>473747</td>\n",
       "      <td>1</td>\n",
       "      <td>3</td>\n",
       "      <td>3</td>\n",
       "      <td>12</td>\n",
       "      <td>21.0</td>\n",
       "      <td>False</td>\n",
       "      <td>196</td>\n",
       "      <td>1</td>\n",
       "      <td>1</td>\n",
       "      <td>Soda</td>\n",
       "      <td>77</td>\n",
       "      <td>7</td>\n",
       "      <td>9.0</td>\n",
       "      <td>both</td>\n",
       "    </tr>\n",
       "    <tr>\n",
       "      <th>3</th>\n",
       "      <td>2254736</td>\n",
       "      <td>1</td>\n",
       "      <td>4</td>\n",
       "      <td>4</td>\n",
       "      <td>7</td>\n",
       "      <td>29.0</td>\n",
       "      <td>False</td>\n",
       "      <td>196</td>\n",
       "      <td>1</td>\n",
       "      <td>1</td>\n",
       "      <td>Soda</td>\n",
       "      <td>77</td>\n",
       "      <td>7</td>\n",
       "      <td>9.0</td>\n",
       "      <td>both</td>\n",
       "    </tr>\n",
       "    <tr>\n",
       "      <th>4</th>\n",
       "      <td>431534</td>\n",
       "      <td>1</td>\n",
       "      <td>5</td>\n",
       "      <td>4</td>\n",
       "      <td>15</td>\n",
       "      <td>28.0</td>\n",
       "      <td>False</td>\n",
       "      <td>196</td>\n",
       "      <td>1</td>\n",
       "      <td>1</td>\n",
       "      <td>Soda</td>\n",
       "      <td>77</td>\n",
       "      <td>7</td>\n",
       "      <td>9.0</td>\n",
       "      <td>both</td>\n",
       "    </tr>\n",
       "    <tr>\n",
       "      <th>...</th>\n",
       "      <td>...</td>\n",
       "      <td>...</td>\n",
       "      <td>...</td>\n",
       "      <td>...</td>\n",
       "      <td>...</td>\n",
       "      <td>...</td>\n",
       "      <td>...</td>\n",
       "      <td>...</td>\n",
       "      <td>...</td>\n",
       "      <td>...</td>\n",
       "      <td>...</td>\n",
       "      <td>...</td>\n",
       "      <td>...</td>\n",
       "      <td>...</td>\n",
       "      <td>...</td>\n",
       "    </tr>\n",
       "    <tr>\n",
       "      <th>999995</th>\n",
       "      <td>2836489</td>\n",
       "      <td>164627</td>\n",
       "      <td>14</td>\n",
       "      <td>0</td>\n",
       "      <td>15</td>\n",
       "      <td>6.0</td>\n",
       "      <td>False</td>\n",
       "      <td>30489</td>\n",
       "      <td>2</td>\n",
       "      <td>0</td>\n",
       "      <td>Original Hummus</td>\n",
       "      <td>67</td>\n",
       "      <td>20</td>\n",
       "      <td>7.5</td>\n",
       "      <td>both</td>\n",
       "    </tr>\n",
       "    <tr>\n",
       "      <th>999996</th>\n",
       "      <td>1843600</td>\n",
       "      <td>164632</td>\n",
       "      <td>5</td>\n",
       "      <td>1</td>\n",
       "      <td>19</td>\n",
       "      <td>9.0</td>\n",
       "      <td>False</td>\n",
       "      <td>30489</td>\n",
       "      <td>2</td>\n",
       "      <td>0</td>\n",
       "      <td>Original Hummus</td>\n",
       "      <td>67</td>\n",
       "      <td>20</td>\n",
       "      <td>7.5</td>\n",
       "      <td>both</td>\n",
       "    </tr>\n",
       "    <tr>\n",
       "      <th>999997</th>\n",
       "      <td>733106</td>\n",
       "      <td>164632</td>\n",
       "      <td>9</td>\n",
       "      <td>2</td>\n",
       "      <td>22</td>\n",
       "      <td>10.0</td>\n",
       "      <td>False</td>\n",
       "      <td>30489</td>\n",
       "      <td>3</td>\n",
       "      <td>1</td>\n",
       "      <td>Original Hummus</td>\n",
       "      <td>67</td>\n",
       "      <td>20</td>\n",
       "      <td>7.5</td>\n",
       "      <td>both</td>\n",
       "    </tr>\n",
       "    <tr>\n",
       "      <th>999998</th>\n",
       "      <td>1650124</td>\n",
       "      <td>164632</td>\n",
       "      <td>17</td>\n",
       "      <td>6</td>\n",
       "      <td>17</td>\n",
       "      <td>13.0</td>\n",
       "      <td>False</td>\n",
       "      <td>30489</td>\n",
       "      <td>1</td>\n",
       "      <td>1</td>\n",
       "      <td>Original Hummus</td>\n",
       "      <td>67</td>\n",
       "      <td>20</td>\n",
       "      <td>7.5</td>\n",
       "      <td>both</td>\n",
       "    </tr>\n",
       "    <tr>\n",
       "      <th>999999</th>\n",
       "      <td>3378258</td>\n",
       "      <td>164632</td>\n",
       "      <td>22</td>\n",
       "      <td>6</td>\n",
       "      <td>10</td>\n",
       "      <td>15.0</td>\n",
       "      <td>False</td>\n",
       "      <td>30489</td>\n",
       "      <td>3</td>\n",
       "      <td>1</td>\n",
       "      <td>Original Hummus</td>\n",
       "      <td>67</td>\n",
       "      <td>20</td>\n",
       "      <td>7.5</td>\n",
       "      <td>both</td>\n",
       "    </tr>\n",
       "  </tbody>\n",
       "</table>\n",
       "<p>1000000 rows × 15 columns</p>\n",
       "</div>"
      ],
      "text/plain": [
       "        order_id  user_id  order_number  orders_day_of_week  \\\n",
       "0        2539329        1             1                   2   \n",
       "1        2398795        1             2                   3   \n",
       "2         473747        1             3                   3   \n",
       "3        2254736        1             4                   4   \n",
       "4         431534        1             5                   4   \n",
       "...          ...      ...           ...                 ...   \n",
       "999995   2836489   164627            14                   0   \n",
       "999996   1843600   164632             5                   1   \n",
       "999997    733106   164632             9                   2   \n",
       "999998   1650124   164632            17                   6   \n",
       "999999   3378258   164632            22                   6   \n",
       "\n",
       "        order_hour_of_day  last_order_days  first_order  product_id  \\\n",
       "0                       8              NaN         True         196   \n",
       "1                       7             15.0        False         196   \n",
       "2                      12             21.0        False         196   \n",
       "3                       7             29.0        False         196   \n",
       "4                      15             28.0        False         196   \n",
       "...                   ...              ...          ...         ...   \n",
       "999995                 15              6.0        False       30489   \n",
       "999996                 19              9.0        False       30489   \n",
       "999997                 22             10.0        False       30489   \n",
       "999998                 17             13.0        False       30489   \n",
       "999999                 10             15.0        False       30489   \n",
       "\n",
       "        add_to_cart_order  reordered     product_name  aisle_id  \\\n",
       "0                       1          0             Soda        77   \n",
       "1                       1          1             Soda        77   \n",
       "2                       1          1             Soda        77   \n",
       "3                       1          1             Soda        77   \n",
       "4                       1          1             Soda        77   \n",
       "...                   ...        ...              ...       ...   \n",
       "999995                  2          0  Original Hummus        67   \n",
       "999996                  2          0  Original Hummus        67   \n",
       "999997                  3          1  Original Hummus        67   \n",
       "999998                  1          1  Original Hummus        67   \n",
       "999999                  3          1  Original Hummus        67   \n",
       "\n",
       "        department_id  prices _merge  \n",
       "0                   7     9.0   both  \n",
       "1                   7     9.0   both  \n",
       "2                   7     9.0   both  \n",
       "3                   7     9.0   both  \n",
       "4                   7     9.0   both  \n",
       "...               ...     ...    ...  \n",
       "999995             20     7.5   both  \n",
       "999996             20     7.5   both  \n",
       "999997             20     7.5   both  \n",
       "999998             20     7.5   both  \n",
       "999999             20     7.5   both  \n",
       "\n",
       "[1000000 rows x 15 columns]"
      ]
     },
     "execution_count": 6,
     "metadata": {},
     "output_type": "execute_result"
    }
   ],
   "source": [
    "df"
   ]
  },
  {
   "cell_type": "markdown",
   "id": "34c74b1d-6bf8-41df-810a-9c58dd5a1a19",
   "metadata": {},
   "source": [
    "### 2. Define a functuon"
   ]
  },
  {
   "cell_type": "code",
   "execution_count": 7,
   "id": "04256e9b-d0df-4e66-a9e7-53939d703ab4",
   "metadata": {},
   "outputs": [],
   "source": [
    "# Define a functuon\n",
    "\n",
    "def price_label(row):\n",
    "    if row['prices'] <= 5:\n",
    "        return 'Low Range Product'\n",
    "    elif (row['prices']) > 5 and (row['prices']) <= 15:\n",
    "        return 'Mid Range Product'\n",
    "    elif row['prices'] > 15:\n",
    "        return 'high Rsnge Product'\n",
    "    else: 'Not Enough Data'\n",
    "        "
   ]
  },
  {
   "cell_type": "code",
   "execution_count": 8,
   "id": "f94c98ec-cf85-43f7-98d7-9ae1b863cb84",
   "metadata": {},
   "outputs": [
    {
     "name": "stderr",
     "output_type": "stream",
     "text": [
      "C:\\Users\\Poory\\AppData\\Local\\Temp\\ipykernel_15376\\935325922.py:1: SettingWithCopyWarning: \n",
      "A value is trying to be set on a copy of a slice from a DataFrame.\n",
      "Try using .loc[row_indexer,col_indexer] = value instead\n",
      "\n",
      "See the caveats in the documentation: https://pandas.pydata.org/pandas-docs/stable/user_guide/indexing.html#returning-a-view-versus-a-copy\n",
      "  df['price_range'] = df.apply(price_label, axis = 1)\n"
     ]
    }
   ],
   "source": [
    "df['price_range'] = df.apply(price_label, axis = 1)"
   ]
  },
  {
   "cell_type": "code",
   "execution_count": 9,
   "id": "21477574-09da-4453-b573-558742f24123",
   "metadata": {},
   "outputs": [
    {
     "data": {
      "text/plain": [
       "price_range\n",
       "Mid Range Product    756450\n",
       "Low Range Product    243550\n",
       "Name: count, dtype: int64"
      ]
     },
     "execution_count": 9,
     "metadata": {},
     "output_type": "execute_result"
    }
   ],
   "source": [
    "df['price_range'].value_counts()"
   ]
  },
  {
   "cell_type": "code",
   "execution_count": 10,
   "id": "c88d1d84-0fea-44f1-8c40-c39168d757dc",
   "metadata": {},
   "outputs": [
    {
     "data": {
      "text/plain": [
       "14.8"
      ]
     },
     "execution_count": 10,
     "metadata": {},
     "output_type": "execute_result"
    }
   ],
   "source": [
    "df['prices'].max()"
   ]
  },
  {
   "cell_type": "markdown",
   "id": "eec2f016-1a3a-4d70-9162-e7e54a6f1a07",
   "metadata": {},
   "source": [
    "### 3. Use df.loc() instead of user-defined function and If statement"
   ]
  },
  {
   "cell_type": "code",
   "execution_count": 11,
   "id": "85805973-7216-4ad0-ac85-922722c45a45",
   "metadata": {},
   "outputs": [
    {
     "name": "stderr",
     "output_type": "stream",
     "text": [
      "C:\\Users\\Poory\\AppData\\Local\\Temp\\ipykernel_15376\\1169838859.py:1: SettingWithCopyWarning: \n",
      "A value is trying to be set on a copy of a slice from a DataFrame.\n",
      "Try using .loc[row_indexer,col_indexer] = value instead\n",
      "\n",
      "See the caveats in the documentation: https://pandas.pydata.org/pandas-docs/stable/user_guide/indexing.html#returning-a-view-versus-a-copy\n",
      "  df.loc[df['prices'] > 15, 'price_range_loc'] = 'High-range product'\n"
     ]
    }
   ],
   "source": [
    "df.loc[df['prices'] > 15, 'price_range_loc'] = 'High-range product'"
   ]
  },
  {
   "cell_type": "code",
   "execution_count": 12,
   "id": "e959a90d-fc92-4679-8e6c-db9fb27d7613",
   "metadata": {},
   "outputs": [],
   "source": [
    "df.loc[(df['prices'] <= 15) & (df['prices'] > 5), 'price_range_loc'] = 'Mid-range product' "
   ]
  },
  {
   "cell_type": "code",
   "execution_count": 13,
   "id": "c410a835-a7a2-4e95-ba14-cf607a8edcbf",
   "metadata": {},
   "outputs": [],
   "source": [
    "df.loc[df['prices'] <= 5, 'price_range_loc'] = 'Low-range product'"
   ]
  },
  {
   "cell_type": "code",
   "execution_count": 14,
   "id": "f0696318-8b7a-4250-8961-10e1d3c008de",
   "metadata": {},
   "outputs": [
    {
     "data": {
      "text/plain": [
       "price_range_loc\n",
       "Mid-range product    756450\n",
       "Low-range product    243550\n",
       "Name: count, dtype: int64"
      ]
     },
     "execution_count": 14,
     "metadata": {},
     "output_type": "execute_result"
    }
   ],
   "source": [
    "df['price_range_loc'].value_counts(dropna = False)"
   ]
  },
  {
   "cell_type": "code",
   "execution_count": 15,
   "id": "2449c24e-fa92-4262-9c50-8df052ddc7ee",
   "metadata": {},
   "outputs": [],
   "source": [
    "ords_prods_merge.loc[ords_prods_merge['prices'] > 15, 'price_range'] = 'High-range product'"
   ]
  },
  {
   "cell_type": "code",
   "execution_count": 16,
   "id": "2ebc57ad-6cc5-4c1e-a332-2d57db830a27",
   "metadata": {},
   "outputs": [],
   "source": [
    "ords_prods_merge.loc[(ords_prods_merge['prices'] <= 15) & (ords_prods_merge['prices'] > 5), 'price_range'] = 'Mid-range product' "
   ]
  },
  {
   "cell_type": "code",
   "execution_count": 17,
   "id": "020d6317-37d1-40b4-9156-a7ad6cd9fee4",
   "metadata": {},
   "outputs": [],
   "source": [
    "ords_prods_merge.loc[ords_prods_merge['prices'] <= 5, 'price_range'] = 'Low-range product'"
   ]
  },
  {
   "cell_type": "code",
   "execution_count": 18,
   "id": "2c45fb0c-e0eb-460f-ac6a-6381a8c07b82",
   "metadata": {},
   "outputs": [
    {
     "data": {
      "text/plain": [
       "price_range\n",
       "Mid-range product     21865987\n",
       "Low-range product     10126321\n",
       "High-range product      412551\n",
       "Name: count, dtype: int64"
      ]
     },
     "execution_count": 18,
     "metadata": {},
     "output_type": "execute_result"
    }
   ],
   "source": [
    "ords_prods_merge['price_range'].value_counts(dropna = False)"
   ]
  },
  {
   "cell_type": "code",
   "execution_count": 19,
   "id": "109b6c0f-4010-4690-939f-6fd83832c517",
   "metadata": {},
   "outputs": [
    {
     "data": {
      "text/plain": [
       "orders_day_of_week\n",
       "0    6204182\n",
       "1    5660230\n",
       "6    4496490\n",
       "2    4213830\n",
       "5    4205791\n",
       "3    3840534\n",
       "4    3783802\n",
       "Name: count, dtype: int64"
      ]
     },
     "execution_count": 19,
     "metadata": {},
     "output_type": "execute_result"
    }
   ],
   "source": [
    "ords_prods_merge['orders_day_of_week'].value_counts(dropna = False)"
   ]
  },
  {
   "cell_type": "markdown",
   "id": "3252e349-742c-4844-8407-903f8c01a25c",
   "metadata": {},
   "source": [
    "### 4. Use FOR loop to create new column"
   ]
  },
  {
   "cell_type": "code",
   "execution_count": 20,
   "id": "56e3501a-4d40-46c0-b089-1d818369fbb0",
   "metadata": {},
   "outputs": [],
   "source": [
    "result = []\n",
    "\n",
    "for value in ords_prods_merge[\"orders_day_of_week\"]:\n",
    "  if value == 0:\n",
    "    result.append(\"Busiest day\")\n",
    "  elif value == 4:\n",
    "    result.append(\"Least busy\")\n",
    "  else:\n",
    "    result.append(\"Regularly busy\")"
   ]
  },
  {
   "cell_type": "code",
   "execution_count": 21,
   "id": "96f14436-7653-4049-977e-b6560b9443dd",
   "metadata": {},
   "outputs": [],
   "source": [
    "ords_prods_merge['busiest_day'] = result "
   ]
  },
  {
   "cell_type": "code",
   "execution_count": 22,
   "id": "1c637c05-646b-4c03-8bc2-74e23bf17afc",
   "metadata": {},
   "outputs": [
    {
     "data": {
      "text/plain": [
       "busiest_day\n",
       "Regularly busy    22416875\n",
       "Busiest day        6204182\n",
       "Least busy         3783802\n",
       "Name: count, dtype: int64"
      ]
     },
     "execution_count": 22,
     "metadata": {},
     "output_type": "execute_result"
    }
   ],
   "source": [
    "ords_prods_merge['busiest_day'].value_counts(dropna = False)"
   ]
  },
  {
   "cell_type": "markdown",
   "id": "c4664510-4714-4ddc-b37f-439e15fa2949",
   "metadata": {},
   "source": [
    "## Task 4.7"
   ]
  },
  {
   "cell_type": "markdown",
   "id": "85f64e1f-ad0a-4ea1-b467-54f2dd7e3e05",
   "metadata": {},
   "source": [
    "### 5. Q2 Make new column: busiest days"
   ]
  },
  {
   "cell_type": "code",
   "execution_count": 23,
   "id": "d828e48b-488d-4643-9c5c-aba2fd351099",
   "metadata": {},
   "outputs": [],
   "source": [
    "result2 = []\n",
    "\n",
    "for x in ords_prods_merge['orders_day_of_week']:\n",
    "    if x == 0 or x == 1:\n",
    "        result2.append('Two busiest days')\n",
    "    elif x == 4 or x == 3:\n",
    "        result2.append('Two Least busy days')\n",
    "    else: \n",
    "        result2.append('Regularly busy')"
   ]
  },
  {
   "cell_type": "code",
   "execution_count": 24,
   "id": "44b26817-b447-45ac-a628-93bae27da820",
   "metadata": {},
   "outputs": [],
   "source": [
    "ords_prods_merge['busiest_days'] = result2"
   ]
  },
  {
   "cell_type": "code",
   "execution_count": 25,
   "id": "5ef18437-af93-471c-bdac-941fa181c7e9",
   "metadata": {},
   "outputs": [
    {
     "data": {
      "text/plain": [
       "busiest_days\n",
       "Regularly busy         12916111\n",
       "Two busiest days       11864412\n",
       "Two Least busy days     7624336\n",
       "Name: count, dtype: int64"
      ]
     },
     "execution_count": 25,
     "metadata": {},
     "output_type": "execute_result"
    }
   ],
   "source": [
    "ords_prods_merge['busiest_days'].value_counts(dropna = False)"
   ]
  },
  {
   "cell_type": "markdown",
   "id": "2a875ed3-a766-4de4-bf6d-a2adda5bcf76",
   "metadata": {},
   "source": [
    "### If we compare our numbers with the orders_day_of_week column frequency table, we can observe that our calculation was correct and accurate."
   ]
  },
  {
   "cell_type": "markdown",
   "id": "c03cd164-ec98-41f7-9351-31dce0f72101",
   "metadata": {},
   "source": [
    "### 6. Q4 Make a new column: busiest_period_of_day"
   ]
  },
  {
   "cell_type": "code",
   "execution_count": 26,
   "id": "a20b1834-198a-4a6c-a784-30c94d890b43",
   "metadata": {},
   "outputs": [
    {
     "data": {
      "text/plain": [
       "order_hour_of_day\n",
       "10    2761760\n",
       "11    2736140\n",
       "14    2689136\n",
       "15    2662144\n",
       "13    2660954\n",
       "12    2618532\n",
       "16    2535202\n",
       "9     2454203\n",
       "17    2087654\n",
       "8     1718118\n",
       "18    1636502\n",
       "19    1258305\n",
       "20     976156\n",
       "7      891054\n",
       "21     795637\n",
       "22     634225\n",
       "23     402316\n",
       "6      290493\n",
       "0      218769\n",
       "1      115700\n",
       "5       87961\n",
       "2       69375\n",
       "4       53242\n",
       "3       51281\n",
       "Name: count, dtype: int64"
      ]
     },
     "execution_count": 26,
     "metadata": {},
     "output_type": "execute_result"
    }
   ],
   "source": [
    "ords_prods_merge['order_hour_of_day'].value_counts(dropna = False)"
   ]
  },
  {
   "cell_type": "code",
   "execution_count": 27,
   "id": "586efeb1-536c-40e0-8cd5-5a77a7cb7f24",
   "metadata": {},
   "outputs": [],
   "source": [
    "result3 = []\n",
    "most_orders = [10, 11, 14, 15, 13, 12, 16, 9]\n",
    "fewest_orders = [3, 4, 2, 5, 1, 0, 6, 23]\n",
    "\n",
    "for x in ords_prods_merge['order_hour_of_day']:\n",
    "    if x in most_orders:\n",
    "        result3.append('Most Orders')\n",
    "    elif x in fewest_orders:\n",
    "        result3.append('Fewest Orders')\n",
    "    else: \n",
    "        result3.append('Average Orders')"
   ]
  },
  {
   "cell_type": "code",
   "execution_count": 28,
   "id": "f690d020-f35d-4d8f-ac34-cb4ae983ddf6",
   "metadata": {},
   "outputs": [],
   "source": [
    "ords_prods_merge['busiest_period_of_day'] = result3"
   ]
  },
  {
   "cell_type": "markdown",
   "id": "c9b43909-a877-491d-a978-559956fccdde",
   "metadata": {},
   "source": [
    "### 7. Q5 Print the frequency for this new column"
   ]
  },
  {
   "cell_type": "code",
   "execution_count": 29,
   "id": "44cc238d-6b11-4e8e-9c66-d04aebfe70bd",
   "metadata": {},
   "outputs": [
    {
     "data": {
      "text/plain": [
       "busiest_period_of_day\n",
       "Most Orders       21118071\n",
       "Average Orders     9997651\n",
       "Fewest Orders      1289137\n",
       "Name: count, dtype: int64"
      ]
     },
     "execution_count": 29,
     "metadata": {},
     "output_type": "execute_result"
    }
   ],
   "source": [
    "ords_prods_merge['busiest_period_of_day'].value_counts(dropna = False)"
   ]
  },
  {
   "cell_type": "code",
   "execution_count": 30,
   "id": "0e931e2c-c230-441a-8e72-8734879ea877",
   "metadata": {},
   "outputs": [
    {
     "data": {
      "text/html": [
       "<div>\n",
       "<style scoped>\n",
       "    .dataframe tbody tr th:only-of-type {\n",
       "        vertical-align: middle;\n",
       "    }\n",
       "\n",
       "    .dataframe tbody tr th {\n",
       "        vertical-align: top;\n",
       "    }\n",
       "\n",
       "    .dataframe thead th {\n",
       "        text-align: right;\n",
       "    }\n",
       "</style>\n",
       "<table border=\"1\" class=\"dataframe\">\n",
       "  <thead>\n",
       "    <tr style=\"text-align: right;\">\n",
       "      <th></th>\n",
       "      <th>order_id</th>\n",
       "      <th>user_id</th>\n",
       "      <th>order_number</th>\n",
       "      <th>orders_day_of_week</th>\n",
       "      <th>order_hour_of_day</th>\n",
       "      <th>last_order_days</th>\n",
       "      <th>first_order</th>\n",
       "      <th>product_id</th>\n",
       "      <th>add_to_cart_order</th>\n",
       "      <th>reordered</th>\n",
       "      <th>product_name</th>\n",
       "      <th>aisle_id</th>\n",
       "      <th>department_id</th>\n",
       "      <th>prices</th>\n",
       "      <th>_merge</th>\n",
       "      <th>price_range</th>\n",
       "      <th>busiest_day</th>\n",
       "      <th>busiest_days</th>\n",
       "      <th>busiest_period_of_day</th>\n",
       "    </tr>\n",
       "  </thead>\n",
       "  <tbody>\n",
       "    <tr>\n",
       "      <th>0</th>\n",
       "      <td>2539329</td>\n",
       "      <td>1</td>\n",
       "      <td>1</td>\n",
       "      <td>2</td>\n",
       "      <td>8</td>\n",
       "      <td>NaN</td>\n",
       "      <td>True</td>\n",
       "      <td>196</td>\n",
       "      <td>1</td>\n",
       "      <td>0</td>\n",
       "      <td>Soda</td>\n",
       "      <td>77</td>\n",
       "      <td>7</td>\n",
       "      <td>9.0</td>\n",
       "      <td>both</td>\n",
       "      <td>Mid-range product</td>\n",
       "      <td>Regularly busy</td>\n",
       "      <td>Regularly busy</td>\n",
       "      <td>Average Orders</td>\n",
       "    </tr>\n",
       "    <tr>\n",
       "      <th>1</th>\n",
       "      <td>2398795</td>\n",
       "      <td>1</td>\n",
       "      <td>2</td>\n",
       "      <td>3</td>\n",
       "      <td>7</td>\n",
       "      <td>15.0</td>\n",
       "      <td>False</td>\n",
       "      <td>196</td>\n",
       "      <td>1</td>\n",
       "      <td>1</td>\n",
       "      <td>Soda</td>\n",
       "      <td>77</td>\n",
       "      <td>7</td>\n",
       "      <td>9.0</td>\n",
       "      <td>both</td>\n",
       "      <td>Mid-range product</td>\n",
       "      <td>Regularly busy</td>\n",
       "      <td>Two Least busy days</td>\n",
       "      <td>Average Orders</td>\n",
       "    </tr>\n",
       "    <tr>\n",
       "      <th>2</th>\n",
       "      <td>473747</td>\n",
       "      <td>1</td>\n",
       "      <td>3</td>\n",
       "      <td>3</td>\n",
       "      <td>12</td>\n",
       "      <td>21.0</td>\n",
       "      <td>False</td>\n",
       "      <td>196</td>\n",
       "      <td>1</td>\n",
       "      <td>1</td>\n",
       "      <td>Soda</td>\n",
       "      <td>77</td>\n",
       "      <td>7</td>\n",
       "      <td>9.0</td>\n",
       "      <td>both</td>\n",
       "      <td>Mid-range product</td>\n",
       "      <td>Regularly busy</td>\n",
       "      <td>Two Least busy days</td>\n",
       "      <td>Most Orders</td>\n",
       "    </tr>\n",
       "    <tr>\n",
       "      <th>3</th>\n",
       "      <td>2254736</td>\n",
       "      <td>1</td>\n",
       "      <td>4</td>\n",
       "      <td>4</td>\n",
       "      <td>7</td>\n",
       "      <td>29.0</td>\n",
       "      <td>False</td>\n",
       "      <td>196</td>\n",
       "      <td>1</td>\n",
       "      <td>1</td>\n",
       "      <td>Soda</td>\n",
       "      <td>77</td>\n",
       "      <td>7</td>\n",
       "      <td>9.0</td>\n",
       "      <td>both</td>\n",
       "      <td>Mid-range product</td>\n",
       "      <td>Least busy</td>\n",
       "      <td>Two Least busy days</td>\n",
       "      <td>Average Orders</td>\n",
       "    </tr>\n",
       "    <tr>\n",
       "      <th>4</th>\n",
       "      <td>431534</td>\n",
       "      <td>1</td>\n",
       "      <td>5</td>\n",
       "      <td>4</td>\n",
       "      <td>15</td>\n",
       "      <td>28.0</td>\n",
       "      <td>False</td>\n",
       "      <td>196</td>\n",
       "      <td>1</td>\n",
       "      <td>1</td>\n",
       "      <td>Soda</td>\n",
       "      <td>77</td>\n",
       "      <td>7</td>\n",
       "      <td>9.0</td>\n",
       "      <td>both</td>\n",
       "      <td>Mid-range product</td>\n",
       "      <td>Least busy</td>\n",
       "      <td>Two Least busy days</td>\n",
       "      <td>Most Orders</td>\n",
       "    </tr>\n",
       "  </tbody>\n",
       "</table>\n",
       "</div>"
      ],
      "text/plain": [
       "   order_id  user_id  order_number  orders_day_of_week  order_hour_of_day  \\\n",
       "0   2539329        1             1                   2                  8   \n",
       "1   2398795        1             2                   3                  7   \n",
       "2    473747        1             3                   3                 12   \n",
       "3   2254736        1             4                   4                  7   \n",
       "4    431534        1             5                   4                 15   \n",
       "\n",
       "   last_order_days  first_order  product_id  add_to_cart_order  reordered  \\\n",
       "0              NaN         True         196                  1          0   \n",
       "1             15.0        False         196                  1          1   \n",
       "2             21.0        False         196                  1          1   \n",
       "3             29.0        False         196                  1          1   \n",
       "4             28.0        False         196                  1          1   \n",
       "\n",
       "  product_name  aisle_id  department_id  prices _merge        price_range  \\\n",
       "0         Soda        77              7     9.0   both  Mid-range product   \n",
       "1         Soda        77              7     9.0   both  Mid-range product   \n",
       "2         Soda        77              7     9.0   both  Mid-range product   \n",
       "3         Soda        77              7     9.0   both  Mid-range product   \n",
       "4         Soda        77              7     9.0   both  Mid-range product   \n",
       "\n",
       "      busiest_day         busiest_days busiest_period_of_day  \n",
       "0  Regularly busy       Regularly busy        Average Orders  \n",
       "1  Regularly busy  Two Least busy days        Average Orders  \n",
       "2  Regularly busy  Two Least busy days           Most Orders  \n",
       "3      Least busy  Two Least busy days        Average Orders  \n",
       "4      Least busy  Two Least busy days           Most Orders  "
      ]
     },
     "execution_count": 30,
     "metadata": {},
     "output_type": "execute_result"
    }
   ],
   "source": [
    "ords_prods_merge.head()"
   ]
  },
  {
   "cell_type": "code",
   "execution_count": 31,
   "id": "ac7810c5-c3da-4b9e-96c5-70a87e835f5f",
   "metadata": {},
   "outputs": [
    {
     "data": {
      "text/plain": [
       "(32404859, 19)"
      ]
     },
     "execution_count": 31,
     "metadata": {},
     "output_type": "execute_result"
    }
   ],
   "source": [
    "ords_prods_merge.shape"
   ]
  },
  {
   "cell_type": "markdown",
   "id": "0a760864-79c3-4998-bea5-d0c594cb6354",
   "metadata": {},
   "source": [
    "### 8. Exporting data"
   ]
  },
  {
   "cell_type": "code",
   "execution_count": 32,
   "id": "7cfdb7d5-eb7f-411a-bdba-88201d3052a5",
   "metadata": {},
   "outputs": [],
   "source": [
    "ords_prods_merge.to_pickle(os.path.join(path, '02 Data', 'Prepared Data', 'ords_prods_merge.pkl'))"
   ]
  },
  {
   "cell_type": "code",
   "execution_count": null,
   "id": "1b7690eb-85d6-45c9-83c5-3fb69f05ec31",
   "metadata": {},
   "outputs": [],
   "source": []
  }
 ],
 "metadata": {
  "kernelspec": {
   "display_name": "Python 3 (ipykernel)",
   "language": "python",
   "name": "python3"
  },
  "language_info": {
   "codemirror_mode": {
    "name": "ipython",
    "version": 3
   },
   "file_extension": ".py",
   "mimetype": "text/x-python",
   "name": "python",
   "nbconvert_exporter": "python",
   "pygments_lexer": "ipython3",
   "version": "3.11.4"
  }
 },
 "nbformat": 4,
 "nbformat_minor": 5
}
