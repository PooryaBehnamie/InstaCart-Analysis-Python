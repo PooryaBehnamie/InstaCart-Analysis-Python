{
 "cells": [
  {
   "cell_type": "markdown",
   "id": "9cb96674",
   "metadata": {},
   "source": [
    "## 01. Importing libraries ##"
   ]
  },
  {
   "cell_type": "code",
   "execution_count": 4,
   "id": "9c2fb850",
   "metadata": {},
   "outputs": [],
   "source": [
    "# Import libraries\n",
    "import pandas as pd\n",
    "import numpy as np\n",
    "import os"
   ]
  },
  {
   "cell_type": "markdown",
   "id": "3bd7d31c",
   "metadata": {},
   "source": [
    "## 02. Data types ##"
   ]
  },
  {
   "cell_type": "code",
   "execution_count": 5,
   "id": "763c5951",
   "metadata": {},
   "outputs": [
    {
     "data": {
      "text/plain": [
       "100"
      ]
     },
     "execution_count": 5,
     "metadata": {},
     "output_type": "execute_result"
    }
   ],
   "source": [
    "x = 2\n",
    "y = 50\n",
    "z = x * y\n",
    "z"
   ]
  },
  {
   "cell_type": "code",
   "execution_count": 6,
   "id": "c1754afe",
   "metadata": {},
   "outputs": [
    {
     "data": {
      "text/plain": [
       "100"
      ]
     },
     "execution_count": 6,
     "metadata": {},
     "output_type": "execute_result"
    }
   ],
   "source": [
    "x = 150\n",
    "y = 50\n",
    "z = x - y\n",
    "z"
   ]
  },
  {
   "cell_type": "code",
   "execution_count": 7,
   "id": "a3239c68",
   "metadata": {},
   "outputs": [
    {
     "data": {
      "text/plain": [
       "100"
      ]
     },
     "execution_count": 7,
     "metadata": {},
     "output_type": "execute_result"
    }
   ],
   "source": [
    "x = 49\n",
    "y = 51\n",
    "z = x + y\n",
    "z"
   ]
  },
  {
   "cell_type": "code",
   "execution_count": 8,
   "id": "76061642",
   "metadata": {},
   "outputs": [
    {
     "data": {
      "text/plain": [
       "1.473773987206823"
      ]
     },
     "execution_count": 8,
     "metadata": {},
     "output_type": "execute_result"
    }
   ],
   "source": [
    "x = 2.345\n",
    "y = 3.456\n",
    "z = y / x \n",
    "z"
   ]
  },
  {
   "cell_type": "code",
   "execution_count": 9,
   "id": "1ce276ae",
   "metadata": {},
   "outputs": [
    {
     "data": {
      "text/plain": [
       "'Career Foundry'"
      ]
     },
     "execution_count": 9,
     "metadata": {},
     "output_type": "execute_result"
    }
   ],
   "source": [
    "x = 'Career '\n",
    "y = 'Foundry'\n",
    "z = x + y\n",
    "z"
   ]
  },
  {
   "cell_type": "code",
   "execution_count": 10,
   "id": "5043681a",
   "metadata": {
    "scrolled": true
   },
   "outputs": [
    {
     "data": {
      "text/plain": [
       "'Hello, World. bye, world.'"
      ]
     },
     "execution_count": 10,
     "metadata": {},
     "output_type": "execute_result"
    }
   ],
   "source": [
    "x = 'Hello, World. '\n",
    "y = 'bye, world.'\n",
    "z = x + y \n",
    "z"
   ]
  },
  {
   "cell_type": "code",
   "execution_count": 11,
   "id": "7cb0c8ef",
   "metadata": {},
   "outputs": [
    {
     "name": "stdout",
     "output_type": "stream",
     "text": [
      "This is line 1\n",
      "This is line 2\n",
      "This is line 3\n",
      "This is line 4\n",
      "This is line 5\n",
      "This is line 6\n",
      "This is line 7\n",
      "This is line 8\n",
      "This is line 9\n",
      "This is line 10\n",
      "This is line 11\n",
      "This is line 12\n",
      "This is line 13\n",
      "This is line 14\n",
      "This is line 15\n",
      "This is line 16\n",
      "This is line 17\n",
      "This is line 18\n",
      "This is line 19\n",
      "This is line 20\n",
      "This is line 21\n",
      "This is line 22\n",
      "This is line 23\n",
      "This is line 24\n",
      "This is line 25\n",
      "This is line 26\n",
      "This is line 27\n",
      "This is line 28\n",
      "This is line 29\n",
      "This is line 30\n",
      "This is line 31\n",
      "This is line 32\n",
      "This is line 33\n",
      "This is line 34\n",
      "This is line 35\n",
      "This is line 36\n",
      "This is line 37\n",
      "This is line 38\n",
      "This is line 39\n",
      "This is line 40\n",
      "This is line 41\n",
      "This is line 42\n",
      "This is line 43\n",
      "This is line 44\n",
      "This is line 45\n",
      "This is line 46\n",
      "This is line 47\n",
      "This is line 48\n",
      "This is line 49\n",
      "This is line 50\n",
      "This is line 51\n",
      "This is line 52\n",
      "This is line 53\n",
      "This is line 54\n",
      "This is line 55\n",
      "This is line 56\n",
      "This is line 57\n",
      "This is line 58\n",
      "This is line 59\n",
      "This is line 60\n",
      "This is line 61\n",
      "This is line 62\n",
      "This is line 63\n",
      "This is line 64\n",
      "This is line 65\n",
      "This is line 66\n",
      "This is line 67\n",
      "This is line 68\n",
      "This is line 69\n",
      "This is line 70\n",
      "This is line 71\n",
      "This is line 72\n",
      "This is line 73\n",
      "This is line 74\n",
      "This is line 75\n",
      "This is line 76\n",
      "This is line 77\n",
      "This is line 78\n",
      "This is line 79\n",
      "This is line 80\n",
      "This is line 81\n",
      "This is line 82\n",
      "This is line 83\n",
      "This is line 84\n",
      "This is line 85\n",
      "This is line 86\n",
      "This is line 87\n",
      "This is line 88\n",
      "This is line 89\n",
      "This is line 90\n",
      "This is line 91\n",
      "This is line 92\n",
      "This is line 93\n",
      "This is line 94\n",
      "This is line 95\n",
      "This is line 96\n",
      "This is line 97\n",
      "This is line 98\n",
      "This is line 99\n",
      "This is line 100\n"
     ]
    }
   ],
   "source": [
    "# Bonus\n",
    "x = 'This is line'\n",
    "n = 1\n",
    "while n <= 100:\n",
    "    y = '{} {}'\n",
    "    print(y.format(x, n))\n",
    "    n += 1"
   ]
  }
 ],
 "metadata": {
  "kernelspec": {
   "display_name": "Python 3 (ipykernel)",
   "language": "python",
   "name": "python3"
  },
  "language_info": {
   "codemirror_mode": {
    "name": "ipython",
    "version": 3
   },
   "file_extension": ".py",
   "mimetype": "text/x-python",
   "name": "python",
   "nbconvert_exporter": "python",
   "pygments_lexer": "ipython3",
   "version": "3.11.4"
  }
 },
 "nbformat": 4,
 "nbformat_minor": 5
}
